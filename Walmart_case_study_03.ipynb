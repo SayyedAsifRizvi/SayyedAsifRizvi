{
  "nbformat": 4,
  "nbformat_minor": 0,
  "metadata": {
    "colab": {
      "provenance": [],
      "authorship_tag": "ABX9TyMNQfO3dnHPVQ4tFkTDgyqp",
      "include_colab_link": true
    },
    "kernelspec": {
      "name": "python3",
      "display_name": "Python 3"
    },
    "language_info": {
      "name": "python"
    }
  },
  "cells": [
    {
      "cell_type": "markdown",
      "metadata": {
        "id": "view-in-github",
        "colab_type": "text"
      },
      "source": [
        "<a href=\"https://colab.research.google.com/github/SayyedAsifRizvi/SayyedAsifRizvi/blob/main/Walmart_case_study_03.ipynb\" target=\"_parent\"><img src=\"https://colab.research.google.com/assets/colab-badge.svg\" alt=\"Open In Colab\"/></a>"
      ]
    },
    {
      "cell_type": "markdown",
      "source": [
        "# **1.Objective**\n",
        "\n",
        "The objective of this project is to conduct a comprehensive analysis of customer purchase behavior, with a specific focus on purchase amounts, in relation to customer gender during the Black Friday sales event at Walmart Inc. This study aims to provide valuable insights that can assist the management team at Walmart Inc. in making data-driven decisions.\n",
        "\n",
        "**About Data**\n",
        "\n",
        "The company collected the transactional data of customers who purchased products from the Walmart Stores during Black Friday.It has information of about 0.5 Million transactions during Black Friday throughout various years.\n",
        "\n",
        "**Features of the dataset:**\n",
        "\n",
        "**User_ID**: User ID of the Customer\n",
        "\n",
        "**Product ID**:\tProduct ID of the Purchased Product\n",
        "\n",
        "**Gender**:\tGender of the Customer (Male/Female)\n",
        "\n",
        "**Age**: \tAge of the Customer (in bins)\n",
        "\n",
        "**Occupation**:\tOccupation of the Customer (Masked)\n",
        "\n",
        "**City_Category**:\tCategory of the City (A,B,C)\n",
        "\n",
        "**StayInCurrentCityYears**:\tNumber of years stay in current city\n",
        "\n",
        "**Marital_Status**:\tMarital Status (0 - Unmarried / 1 - Married)\n",
        "\n",
        "**ProductCategory**:\tProduct Category (Masked)\n",
        "\n",
        "**Purchase**:\tPurchase Amount"
      ],
      "metadata": {
        "id": "a778H53c1LJJ"
      }
    },
    {
      "cell_type": "markdown",
      "source": [
        "# **2. Exploratory Data Analysis**"
      ],
      "metadata": {
        "id": "EEKAPSFx26FE"
      }
    },
    {
      "cell_type": "code",
      "execution_count": 1,
      "metadata": {
        "id": "Suq37bZf1GqM"
      },
      "outputs": [],
      "source": [
        "#importing libraries\n",
        "import numpy as np\n",
        "import pandas as pd\n",
        "import matplotlib.pyplot as plt\n",
        "import seaborn as sns\n",
        "from scipy.stats import t\n",
        "import warnings\n",
        "warnings.filterwarnings('ignore')\n",
        "import copy"
      ]
    },
    {
      "cell_type": "code",
      "source": [
        "# loading the dataset\n",
        "df = pd.read_csv('/content/walmart_data.csv')"
      ],
      "metadata": {
        "id": "5Cca4ewL3c-e"
      },
      "execution_count": 3,
      "outputs": []
    },
    {
      "cell_type": "code",
      "source": [
        "df.head()"
      ],
      "metadata": {
        "colab": {
          "base_uri": "https://localhost:8080/",
          "height": 206
        },
        "id": "_iNaEMiI3hqM",
        "outputId": "2167aa0b-7e22-4e8e-f319-ddde31ed534b"
      },
      "execution_count": 4,
      "outputs": [
        {
          "output_type": "execute_result",
          "data": {
            "text/plain": [
              "   User_ID Product_ID Gender   Age  Occupation City_Category  \\\n",
              "0  1000001  P00069042      F  0-17        10.0             A   \n",
              "1  1000001  P00248942      F  0-17        10.0             A   \n",
              "2  1000001  P00087842      F  0-17        10.0             A   \n",
              "3  1000001  P00085442      F  0-17        10.0             A   \n",
              "4  1000002  P00285442      M   55+        16.0             C   \n",
              "\n",
              "  Stay_In_Current_City_Years  Marital_Status  Product_Category  Purchase  \n",
              "0                          2             0.0               3.0    8370.0  \n",
              "1                          2             0.0               1.0   15200.0  \n",
              "2                          2             0.0              12.0    1422.0  \n",
              "3                          2             0.0              12.0    1057.0  \n",
              "4                         4+             0.0               8.0    7969.0  "
            ],
            "text/html": [
              "\n",
              "  <div id=\"df-2cfa1075-fde6-4f1d-a3db-689a5a0e3173\" class=\"colab-df-container\">\n",
              "    <div>\n",
              "<style scoped>\n",
              "    .dataframe tbody tr th:only-of-type {\n",
              "        vertical-align: middle;\n",
              "    }\n",
              "\n",
              "    .dataframe tbody tr th {\n",
              "        vertical-align: top;\n",
              "    }\n",
              "\n",
              "    .dataframe thead th {\n",
              "        text-align: right;\n",
              "    }\n",
              "</style>\n",
              "<table border=\"1\" class=\"dataframe\">\n",
              "  <thead>\n",
              "    <tr style=\"text-align: right;\">\n",
              "      <th></th>\n",
              "      <th>User_ID</th>\n",
              "      <th>Product_ID</th>\n",
              "      <th>Gender</th>\n",
              "      <th>Age</th>\n",
              "      <th>Occupation</th>\n",
              "      <th>City_Category</th>\n",
              "      <th>Stay_In_Current_City_Years</th>\n",
              "      <th>Marital_Status</th>\n",
              "      <th>Product_Category</th>\n",
              "      <th>Purchase</th>\n",
              "    </tr>\n",
              "  </thead>\n",
              "  <tbody>\n",
              "    <tr>\n",
              "      <th>0</th>\n",
              "      <td>1000001</td>\n",
              "      <td>P00069042</td>\n",
              "      <td>F</td>\n",
              "      <td>0-17</td>\n",
              "      <td>10.0</td>\n",
              "      <td>A</td>\n",
              "      <td>2</td>\n",
              "      <td>0.0</td>\n",
              "      <td>3.0</td>\n",
              "      <td>8370.0</td>\n",
              "    </tr>\n",
              "    <tr>\n",
              "      <th>1</th>\n",
              "      <td>1000001</td>\n",
              "      <td>P00248942</td>\n",
              "      <td>F</td>\n",
              "      <td>0-17</td>\n",
              "      <td>10.0</td>\n",
              "      <td>A</td>\n",
              "      <td>2</td>\n",
              "      <td>0.0</td>\n",
              "      <td>1.0</td>\n",
              "      <td>15200.0</td>\n",
              "    </tr>\n",
              "    <tr>\n",
              "      <th>2</th>\n",
              "      <td>1000001</td>\n",
              "      <td>P00087842</td>\n",
              "      <td>F</td>\n",
              "      <td>0-17</td>\n",
              "      <td>10.0</td>\n",
              "      <td>A</td>\n",
              "      <td>2</td>\n",
              "      <td>0.0</td>\n",
              "      <td>12.0</td>\n",
              "      <td>1422.0</td>\n",
              "    </tr>\n",
              "    <tr>\n",
              "      <th>3</th>\n",
              "      <td>1000001</td>\n",
              "      <td>P00085442</td>\n",
              "      <td>F</td>\n",
              "      <td>0-17</td>\n",
              "      <td>10.0</td>\n",
              "      <td>A</td>\n",
              "      <td>2</td>\n",
              "      <td>0.0</td>\n",
              "      <td>12.0</td>\n",
              "      <td>1057.0</td>\n",
              "    </tr>\n",
              "    <tr>\n",
              "      <th>4</th>\n",
              "      <td>1000002</td>\n",
              "      <td>P00285442</td>\n",
              "      <td>M</td>\n",
              "      <td>55+</td>\n",
              "      <td>16.0</td>\n",
              "      <td>C</td>\n",
              "      <td>4+</td>\n",
              "      <td>0.0</td>\n",
              "      <td>8.0</td>\n",
              "      <td>7969.0</td>\n",
              "    </tr>\n",
              "  </tbody>\n",
              "</table>\n",
              "</div>\n",
              "    <div class=\"colab-df-buttons\">\n",
              "\n",
              "  <div class=\"colab-df-container\">\n",
              "    <button class=\"colab-df-convert\" onclick=\"convertToInteractive('df-2cfa1075-fde6-4f1d-a3db-689a5a0e3173')\"\n",
              "            title=\"Convert this dataframe to an interactive table.\"\n",
              "            style=\"display:none;\">\n",
              "\n",
              "  <svg xmlns=\"http://www.w3.org/2000/svg\" height=\"24px\" viewBox=\"0 -960 960 960\">\n",
              "    <path d=\"M120-120v-720h720v720H120Zm60-500h600v-160H180v160Zm220 220h160v-160H400v160Zm0 220h160v-160H400v160ZM180-400h160v-160H180v160Zm440 0h160v-160H620v160ZM180-180h160v-160H180v160Zm440 0h160v-160H620v160Z\"/>\n",
              "  </svg>\n",
              "    </button>\n",
              "\n",
              "  <style>\n",
              "    .colab-df-container {\n",
              "      display:flex;\n",
              "      gap: 12px;\n",
              "    }\n",
              "\n",
              "    .colab-df-convert {\n",
              "      background-color: #E8F0FE;\n",
              "      border: none;\n",
              "      border-radius: 50%;\n",
              "      cursor: pointer;\n",
              "      display: none;\n",
              "      fill: #1967D2;\n",
              "      height: 32px;\n",
              "      padding: 0 0 0 0;\n",
              "      width: 32px;\n",
              "    }\n",
              "\n",
              "    .colab-df-convert:hover {\n",
              "      background-color: #E2EBFA;\n",
              "      box-shadow: 0px 1px 2px rgba(60, 64, 67, 0.3), 0px 1px 3px 1px rgba(60, 64, 67, 0.15);\n",
              "      fill: #174EA6;\n",
              "    }\n",
              "\n",
              "    .colab-df-buttons div {\n",
              "      margin-bottom: 4px;\n",
              "    }\n",
              "\n",
              "    [theme=dark] .colab-df-convert {\n",
              "      background-color: #3B4455;\n",
              "      fill: #D2E3FC;\n",
              "    }\n",
              "\n",
              "    [theme=dark] .colab-df-convert:hover {\n",
              "      background-color: #434B5C;\n",
              "      box-shadow: 0px 1px 3px 1px rgba(0, 0, 0, 0.15);\n",
              "      filter: drop-shadow(0px 1px 2px rgba(0, 0, 0, 0.3));\n",
              "      fill: #FFFFFF;\n",
              "    }\n",
              "  </style>\n",
              "\n",
              "    <script>\n",
              "      const buttonEl =\n",
              "        document.querySelector('#df-2cfa1075-fde6-4f1d-a3db-689a5a0e3173 button.colab-df-convert');\n",
              "      buttonEl.style.display =\n",
              "        google.colab.kernel.accessAllowed ? 'block' : 'none';\n",
              "\n",
              "      async function convertToInteractive(key) {\n",
              "        const element = document.querySelector('#df-2cfa1075-fde6-4f1d-a3db-689a5a0e3173');\n",
              "        const dataTable =\n",
              "          await google.colab.kernel.invokeFunction('convertToInteractive',\n",
              "                                                    [key], {});\n",
              "        if (!dataTable) return;\n",
              "\n",
              "        const docLinkHtml = 'Like what you see? Visit the ' +\n",
              "          '<a target=\"_blank\" href=https://colab.research.google.com/notebooks/data_table.ipynb>data table notebook</a>'\n",
              "          + ' to learn more about interactive tables.';\n",
              "        element.innerHTML = '';\n",
              "        dataTable['output_type'] = 'display_data';\n",
              "        await google.colab.output.renderOutput(dataTable, element);\n",
              "        const docLink = document.createElement('div');\n",
              "        docLink.innerHTML = docLinkHtml;\n",
              "        element.appendChild(docLink);\n",
              "      }\n",
              "    </script>\n",
              "  </div>\n",
              "\n",
              "\n",
              "<div id=\"df-657ea8ee-b27f-48c9-928a-1a9bcec74387\">\n",
              "  <button class=\"colab-df-quickchart\" onclick=\"quickchart('df-657ea8ee-b27f-48c9-928a-1a9bcec74387')\"\n",
              "            title=\"Suggest charts\"\n",
              "            style=\"display:none;\">\n",
              "\n",
              "<svg xmlns=\"http://www.w3.org/2000/svg\" height=\"24px\"viewBox=\"0 0 24 24\"\n",
              "     width=\"24px\">\n",
              "    <g>\n",
              "        <path d=\"M19 3H5c-1.1 0-2 .9-2 2v14c0 1.1.9 2 2 2h14c1.1 0 2-.9 2-2V5c0-1.1-.9-2-2-2zM9 17H7v-7h2v7zm4 0h-2V7h2v10zm4 0h-2v-4h2v4z\"/>\n",
              "    </g>\n",
              "</svg>\n",
              "  </button>\n",
              "\n",
              "<style>\n",
              "  .colab-df-quickchart {\n",
              "      --bg-color: #E8F0FE;\n",
              "      --fill-color: #1967D2;\n",
              "      --hover-bg-color: #E2EBFA;\n",
              "      --hover-fill-color: #174EA6;\n",
              "      --disabled-fill-color: #AAA;\n",
              "      --disabled-bg-color: #DDD;\n",
              "  }\n",
              "\n",
              "  [theme=dark] .colab-df-quickchart {\n",
              "      --bg-color: #3B4455;\n",
              "      --fill-color: #D2E3FC;\n",
              "      --hover-bg-color: #434B5C;\n",
              "      --hover-fill-color: #FFFFFF;\n",
              "      --disabled-bg-color: #3B4455;\n",
              "      --disabled-fill-color: #666;\n",
              "  }\n",
              "\n",
              "  .colab-df-quickchart {\n",
              "    background-color: var(--bg-color);\n",
              "    border: none;\n",
              "    border-radius: 50%;\n",
              "    cursor: pointer;\n",
              "    display: none;\n",
              "    fill: var(--fill-color);\n",
              "    height: 32px;\n",
              "    padding: 0;\n",
              "    width: 32px;\n",
              "  }\n",
              "\n",
              "  .colab-df-quickchart:hover {\n",
              "    background-color: var(--hover-bg-color);\n",
              "    box-shadow: 0 1px 2px rgba(60, 64, 67, 0.3), 0 1px 3px 1px rgba(60, 64, 67, 0.15);\n",
              "    fill: var(--button-hover-fill-color);\n",
              "  }\n",
              "\n",
              "  .colab-df-quickchart-complete:disabled,\n",
              "  .colab-df-quickchart-complete:disabled:hover {\n",
              "    background-color: var(--disabled-bg-color);\n",
              "    fill: var(--disabled-fill-color);\n",
              "    box-shadow: none;\n",
              "  }\n",
              "\n",
              "  .colab-df-spinner {\n",
              "    border: 2px solid var(--fill-color);\n",
              "    border-color: transparent;\n",
              "    border-bottom-color: var(--fill-color);\n",
              "    animation:\n",
              "      spin 1s steps(1) infinite;\n",
              "  }\n",
              "\n",
              "  @keyframes spin {\n",
              "    0% {\n",
              "      border-color: transparent;\n",
              "      border-bottom-color: var(--fill-color);\n",
              "      border-left-color: var(--fill-color);\n",
              "    }\n",
              "    20% {\n",
              "      border-color: transparent;\n",
              "      border-left-color: var(--fill-color);\n",
              "      border-top-color: var(--fill-color);\n",
              "    }\n",
              "    30% {\n",
              "      border-color: transparent;\n",
              "      border-left-color: var(--fill-color);\n",
              "      border-top-color: var(--fill-color);\n",
              "      border-right-color: var(--fill-color);\n",
              "    }\n",
              "    40% {\n",
              "      border-color: transparent;\n",
              "      border-right-color: var(--fill-color);\n",
              "      border-top-color: var(--fill-color);\n",
              "    }\n",
              "    60% {\n",
              "      border-color: transparent;\n",
              "      border-right-color: var(--fill-color);\n",
              "    }\n",
              "    80% {\n",
              "      border-color: transparent;\n",
              "      border-right-color: var(--fill-color);\n",
              "      border-bottom-color: var(--fill-color);\n",
              "    }\n",
              "    90% {\n",
              "      border-color: transparent;\n",
              "      border-bottom-color: var(--fill-color);\n",
              "    }\n",
              "  }\n",
              "</style>\n",
              "\n",
              "  <script>\n",
              "    async function quickchart(key) {\n",
              "      const quickchartButtonEl =\n",
              "        document.querySelector('#' + key + ' button');\n",
              "      quickchartButtonEl.disabled = true;  // To prevent multiple clicks.\n",
              "      quickchartButtonEl.classList.add('colab-df-spinner');\n",
              "      try {\n",
              "        const charts = await google.colab.kernel.invokeFunction(\n",
              "            'suggestCharts', [key], {});\n",
              "      } catch (error) {\n",
              "        console.error('Error during call to suggestCharts:', error);\n",
              "      }\n",
              "      quickchartButtonEl.classList.remove('colab-df-spinner');\n",
              "      quickchartButtonEl.classList.add('colab-df-quickchart-complete');\n",
              "    }\n",
              "    (() => {\n",
              "      let quickchartButtonEl =\n",
              "        document.querySelector('#df-657ea8ee-b27f-48c9-928a-1a9bcec74387 button');\n",
              "      quickchartButtonEl.style.display =\n",
              "        google.colab.kernel.accessAllowed ? 'block' : 'none';\n",
              "    })();\n",
              "  </script>\n",
              "</div>\n",
              "\n",
              "    </div>\n",
              "  </div>\n"
            ],
            "application/vnd.google.colaboratory.intrinsic+json": {
              "type": "dataframe",
              "variable_name": "df",
              "summary": "{\n  \"name\": \"df\",\n  \"rows\": 25037,\n  \"fields\": [\n    {\n      \"column\": \"User_ID\",\n      \"properties\": {\n        \"dtype\": \"number\",\n        \"std\": 1124,\n        \"min\": 1000001,\n        \"max\": 1003845,\n        \"num_unique_values\": 3388,\n        \"samples\": [\n          1003835,\n          1003732,\n          1002901\n        ],\n        \"semantic_type\": \"\",\n        \"description\": \"\"\n      }\n    },\n    {\n      \"column\": \"Product_ID\",\n      \"properties\": {\n        \"dtype\": \"category\",\n        \"num_unique_values\": 2821,\n        \"samples\": [\n          \"P00033442\",\n          \"P00292242\",\n          \"P00092242\"\n        ],\n        \"semantic_type\": \"\",\n        \"description\": \"\"\n      }\n    },\n    {\n      \"column\": \"Gender\",\n      \"properties\": {\n        \"dtype\": \"category\",\n        \"num_unique_values\": 2,\n        \"samples\": [\n          \"M\",\n          \"F\"\n        ],\n        \"semantic_type\": \"\",\n        \"description\": \"\"\n      }\n    },\n    {\n      \"column\": \"Age\",\n      \"properties\": {\n        \"dtype\": \"category\",\n        \"num_unique_values\": 7,\n        \"samples\": [\n          \"0-17\",\n          \"55+\"\n        ],\n        \"semantic_type\": \"\",\n        \"description\": \"\"\n      }\n    },\n    {\n      \"column\": \"Occupation\",\n      \"properties\": {\n        \"dtype\": \"number\",\n        \"std\": 6.533908487747065,\n        \"min\": 0.0,\n        \"max\": 20.0,\n        \"num_unique_values\": 21,\n        \"samples\": [\n          10.0,\n          5.0\n        ],\n        \"semantic_type\": \"\",\n        \"description\": \"\"\n      }\n    },\n    {\n      \"column\": \"City_Category\",\n      \"properties\": {\n        \"dtype\": \"category\",\n        \"num_unique_values\": 3,\n        \"samples\": [\n          \"A\",\n          \"C\"\n        ],\n        \"semantic_type\": \"\",\n        \"description\": \"\"\n      }\n    },\n    {\n      \"column\": \"Stay_In_Current_City_Years\",\n      \"properties\": {\n        \"dtype\": \"category\",\n        \"num_unique_values\": 5,\n        \"samples\": [\n          \"4+\",\n          \"0\"\n        ],\n        \"semantic_type\": \"\",\n        \"description\": \"\"\n      }\n    },\n    {\n      \"column\": \"Marital_Status\",\n      \"properties\": {\n        \"dtype\": \"number\",\n        \"std\": 0.4898145636192407,\n        \"min\": 0.0,\n        \"max\": 1.0,\n        \"num_unique_values\": 2,\n        \"samples\": [\n          1.0,\n          0.0\n        ],\n        \"semantic_type\": \"\",\n        \"description\": \"\"\n      }\n    },\n    {\n      \"column\": \"Product_Category\",\n      \"properties\": {\n        \"dtype\": \"number\",\n        \"std\": 3.7057298068473763,\n        \"min\": 1.0,\n        \"max\": 18.0,\n        \"num_unique_values\": 18,\n        \"samples\": [\n          3.0,\n          1.0\n        ],\n        \"semantic_type\": \"\",\n        \"description\": \"\"\n      }\n    },\n    {\n      \"column\": \"Purchase\",\n      \"properties\": {\n        \"dtype\": \"number\",\n        \"std\": 4937.285195211437,\n        \"min\": 186.0,\n        \"max\": 23958.0,\n        \"num_unique_values\": 9232,\n        \"samples\": [\n          7147.0,\n          7860.0\n        ],\n        \"semantic_type\": \"\",\n        \"description\": \"\"\n      }\n    }\n  ]\n}"
            }
          },
          "metadata": {},
          "execution_count": 4
        }
      ]
    },
    {
      "cell_type": "code",
      "source": [
        "df.tail()"
      ],
      "metadata": {
        "colab": {
          "base_uri": "https://localhost:8080/",
          "height": 206
        },
        "id": "Wpn2JfEj5Ubc",
        "outputId": "38ed9c63-e353-4ac9-bc2e-9590627d2aaf"
      },
      "execution_count": 5,
      "outputs": [
        {
          "output_type": "execute_result",
          "data": {
            "text/plain": [
              "       User_ID Product_ID Gender    Age  Occupation City_Category  \\\n",
              "25032  1003843  P00034642      F   0-17        10.0             B   \n",
              "25033  1003844  P00359942      M  18-25         4.0             C   \n",
              "25034  1003844  P00193842      M  18-25         4.0             C   \n",
              "25035  1003845  P00110942      M  26-35        12.0             C   \n",
              "25036  1003845      P0022    NaN    NaN         NaN           NaN   \n",
              "\n",
              "      Stay_In_Current_City_Years  Marital_Status  Product_Category  Purchase  \n",
              "25032                          2             0.0               4.0    1433.0  \n",
              "25033                          3             1.0              11.0    6138.0  \n",
              "25034                          3             1.0              11.0    7477.0  \n",
              "25035                          1             1.0               1.0   19456.0  \n",
              "25036                        NaN             NaN               NaN       NaN  "
            ],
            "text/html": [
              "\n",
              "  <div id=\"df-aed760d1-8635-486f-a4c9-f4b9c49e9c6a\" class=\"colab-df-container\">\n",
              "    <div>\n",
              "<style scoped>\n",
              "    .dataframe tbody tr th:only-of-type {\n",
              "        vertical-align: middle;\n",
              "    }\n",
              "\n",
              "    .dataframe tbody tr th {\n",
              "        vertical-align: top;\n",
              "    }\n",
              "\n",
              "    .dataframe thead th {\n",
              "        text-align: right;\n",
              "    }\n",
              "</style>\n",
              "<table border=\"1\" class=\"dataframe\">\n",
              "  <thead>\n",
              "    <tr style=\"text-align: right;\">\n",
              "      <th></th>\n",
              "      <th>User_ID</th>\n",
              "      <th>Product_ID</th>\n",
              "      <th>Gender</th>\n",
              "      <th>Age</th>\n",
              "      <th>Occupation</th>\n",
              "      <th>City_Category</th>\n",
              "      <th>Stay_In_Current_City_Years</th>\n",
              "      <th>Marital_Status</th>\n",
              "      <th>Product_Category</th>\n",
              "      <th>Purchase</th>\n",
              "    </tr>\n",
              "  </thead>\n",
              "  <tbody>\n",
              "    <tr>\n",
              "      <th>25032</th>\n",
              "      <td>1003843</td>\n",
              "      <td>P00034642</td>\n",
              "      <td>F</td>\n",
              "      <td>0-17</td>\n",
              "      <td>10.0</td>\n",
              "      <td>B</td>\n",
              "      <td>2</td>\n",
              "      <td>0.0</td>\n",
              "      <td>4.0</td>\n",
              "      <td>1433.0</td>\n",
              "    </tr>\n",
              "    <tr>\n",
              "      <th>25033</th>\n",
              "      <td>1003844</td>\n",
              "      <td>P00359942</td>\n",
              "      <td>M</td>\n",
              "      <td>18-25</td>\n",
              "      <td>4.0</td>\n",
              "      <td>C</td>\n",
              "      <td>3</td>\n",
              "      <td>1.0</td>\n",
              "      <td>11.0</td>\n",
              "      <td>6138.0</td>\n",
              "    </tr>\n",
              "    <tr>\n",
              "      <th>25034</th>\n",
              "      <td>1003844</td>\n",
              "      <td>P00193842</td>\n",
              "      <td>M</td>\n",
              "      <td>18-25</td>\n",
              "      <td>4.0</td>\n",
              "      <td>C</td>\n",
              "      <td>3</td>\n",
              "      <td>1.0</td>\n",
              "      <td>11.0</td>\n",
              "      <td>7477.0</td>\n",
              "    </tr>\n",
              "    <tr>\n",
              "      <th>25035</th>\n",
              "      <td>1003845</td>\n",
              "      <td>P00110942</td>\n",
              "      <td>M</td>\n",
              "      <td>26-35</td>\n",
              "      <td>12.0</td>\n",
              "      <td>C</td>\n",
              "      <td>1</td>\n",
              "      <td>1.0</td>\n",
              "      <td>1.0</td>\n",
              "      <td>19456.0</td>\n",
              "    </tr>\n",
              "    <tr>\n",
              "      <th>25036</th>\n",
              "      <td>1003845</td>\n",
              "      <td>P0022</td>\n",
              "      <td>NaN</td>\n",
              "      <td>NaN</td>\n",
              "      <td>NaN</td>\n",
              "      <td>NaN</td>\n",
              "      <td>NaN</td>\n",
              "      <td>NaN</td>\n",
              "      <td>NaN</td>\n",
              "      <td>NaN</td>\n",
              "    </tr>\n",
              "  </tbody>\n",
              "</table>\n",
              "</div>\n",
              "    <div class=\"colab-df-buttons\">\n",
              "\n",
              "  <div class=\"colab-df-container\">\n",
              "    <button class=\"colab-df-convert\" onclick=\"convertToInteractive('df-aed760d1-8635-486f-a4c9-f4b9c49e9c6a')\"\n",
              "            title=\"Convert this dataframe to an interactive table.\"\n",
              "            style=\"display:none;\">\n",
              "\n",
              "  <svg xmlns=\"http://www.w3.org/2000/svg\" height=\"24px\" viewBox=\"0 -960 960 960\">\n",
              "    <path d=\"M120-120v-720h720v720H120Zm60-500h600v-160H180v160Zm220 220h160v-160H400v160Zm0 220h160v-160H400v160ZM180-400h160v-160H180v160Zm440 0h160v-160H620v160ZM180-180h160v-160H180v160Zm440 0h160v-160H620v160Z\"/>\n",
              "  </svg>\n",
              "    </button>\n",
              "\n",
              "  <style>\n",
              "    .colab-df-container {\n",
              "      display:flex;\n",
              "      gap: 12px;\n",
              "    }\n",
              "\n",
              "    .colab-df-convert {\n",
              "      background-color: #E8F0FE;\n",
              "      border: none;\n",
              "      border-radius: 50%;\n",
              "      cursor: pointer;\n",
              "      display: none;\n",
              "      fill: #1967D2;\n",
              "      height: 32px;\n",
              "      padding: 0 0 0 0;\n",
              "      width: 32px;\n",
              "    }\n",
              "\n",
              "    .colab-df-convert:hover {\n",
              "      background-color: #E2EBFA;\n",
              "      box-shadow: 0px 1px 2px rgba(60, 64, 67, 0.3), 0px 1px 3px 1px rgba(60, 64, 67, 0.15);\n",
              "      fill: #174EA6;\n",
              "    }\n",
              "\n",
              "    .colab-df-buttons div {\n",
              "      margin-bottom: 4px;\n",
              "    }\n",
              "\n",
              "    [theme=dark] .colab-df-convert {\n",
              "      background-color: #3B4455;\n",
              "      fill: #D2E3FC;\n",
              "    }\n",
              "\n",
              "    [theme=dark] .colab-df-convert:hover {\n",
              "      background-color: #434B5C;\n",
              "      box-shadow: 0px 1px 3px 1px rgba(0, 0, 0, 0.15);\n",
              "      filter: drop-shadow(0px 1px 2px rgba(0, 0, 0, 0.3));\n",
              "      fill: #FFFFFF;\n",
              "    }\n",
              "  </style>\n",
              "\n",
              "    <script>\n",
              "      const buttonEl =\n",
              "        document.querySelector('#df-aed760d1-8635-486f-a4c9-f4b9c49e9c6a button.colab-df-convert');\n",
              "      buttonEl.style.display =\n",
              "        google.colab.kernel.accessAllowed ? 'block' : 'none';\n",
              "\n",
              "      async function convertToInteractive(key) {\n",
              "        const element = document.querySelector('#df-aed760d1-8635-486f-a4c9-f4b9c49e9c6a');\n",
              "        const dataTable =\n",
              "          await google.colab.kernel.invokeFunction('convertToInteractive',\n",
              "                                                    [key], {});\n",
              "        if (!dataTable) return;\n",
              "\n",
              "        const docLinkHtml = 'Like what you see? Visit the ' +\n",
              "          '<a target=\"_blank\" href=https://colab.research.google.com/notebooks/data_table.ipynb>data table notebook</a>'\n",
              "          + ' to learn more about interactive tables.';\n",
              "        element.innerHTML = '';\n",
              "        dataTable['output_type'] = 'display_data';\n",
              "        await google.colab.output.renderOutput(dataTable, element);\n",
              "        const docLink = document.createElement('div');\n",
              "        docLink.innerHTML = docLinkHtml;\n",
              "        element.appendChild(docLink);\n",
              "      }\n",
              "    </script>\n",
              "  </div>\n",
              "\n",
              "\n",
              "<div id=\"df-074a56d4-f213-4fa0-80b7-e7eb0cadf0b0\">\n",
              "  <button class=\"colab-df-quickchart\" onclick=\"quickchart('df-074a56d4-f213-4fa0-80b7-e7eb0cadf0b0')\"\n",
              "            title=\"Suggest charts\"\n",
              "            style=\"display:none;\">\n",
              "\n",
              "<svg xmlns=\"http://www.w3.org/2000/svg\" height=\"24px\"viewBox=\"0 0 24 24\"\n",
              "     width=\"24px\">\n",
              "    <g>\n",
              "        <path d=\"M19 3H5c-1.1 0-2 .9-2 2v14c0 1.1.9 2 2 2h14c1.1 0 2-.9 2-2V5c0-1.1-.9-2-2-2zM9 17H7v-7h2v7zm4 0h-2V7h2v10zm4 0h-2v-4h2v4z\"/>\n",
              "    </g>\n",
              "</svg>\n",
              "  </button>\n",
              "\n",
              "<style>\n",
              "  .colab-df-quickchart {\n",
              "      --bg-color: #E8F0FE;\n",
              "      --fill-color: #1967D2;\n",
              "      --hover-bg-color: #E2EBFA;\n",
              "      --hover-fill-color: #174EA6;\n",
              "      --disabled-fill-color: #AAA;\n",
              "      --disabled-bg-color: #DDD;\n",
              "  }\n",
              "\n",
              "  [theme=dark] .colab-df-quickchart {\n",
              "      --bg-color: #3B4455;\n",
              "      --fill-color: #D2E3FC;\n",
              "      --hover-bg-color: #434B5C;\n",
              "      --hover-fill-color: #FFFFFF;\n",
              "      --disabled-bg-color: #3B4455;\n",
              "      --disabled-fill-color: #666;\n",
              "  }\n",
              "\n",
              "  .colab-df-quickchart {\n",
              "    background-color: var(--bg-color);\n",
              "    border: none;\n",
              "    border-radius: 50%;\n",
              "    cursor: pointer;\n",
              "    display: none;\n",
              "    fill: var(--fill-color);\n",
              "    height: 32px;\n",
              "    padding: 0;\n",
              "    width: 32px;\n",
              "  }\n",
              "\n",
              "  .colab-df-quickchart:hover {\n",
              "    background-color: var(--hover-bg-color);\n",
              "    box-shadow: 0 1px 2px rgba(60, 64, 67, 0.3), 0 1px 3px 1px rgba(60, 64, 67, 0.15);\n",
              "    fill: var(--button-hover-fill-color);\n",
              "  }\n",
              "\n",
              "  .colab-df-quickchart-complete:disabled,\n",
              "  .colab-df-quickchart-complete:disabled:hover {\n",
              "    background-color: var(--disabled-bg-color);\n",
              "    fill: var(--disabled-fill-color);\n",
              "    box-shadow: none;\n",
              "  }\n",
              "\n",
              "  .colab-df-spinner {\n",
              "    border: 2px solid var(--fill-color);\n",
              "    border-color: transparent;\n",
              "    border-bottom-color: var(--fill-color);\n",
              "    animation:\n",
              "      spin 1s steps(1) infinite;\n",
              "  }\n",
              "\n",
              "  @keyframes spin {\n",
              "    0% {\n",
              "      border-color: transparent;\n",
              "      border-bottom-color: var(--fill-color);\n",
              "      border-left-color: var(--fill-color);\n",
              "    }\n",
              "    20% {\n",
              "      border-color: transparent;\n",
              "      border-left-color: var(--fill-color);\n",
              "      border-top-color: var(--fill-color);\n",
              "    }\n",
              "    30% {\n",
              "      border-color: transparent;\n",
              "      border-left-color: var(--fill-color);\n",
              "      border-top-color: var(--fill-color);\n",
              "      border-right-color: var(--fill-color);\n",
              "    }\n",
              "    40% {\n",
              "      border-color: transparent;\n",
              "      border-right-color: var(--fill-color);\n",
              "      border-top-color: var(--fill-color);\n",
              "    }\n",
              "    60% {\n",
              "      border-color: transparent;\n",
              "      border-right-color: var(--fill-color);\n",
              "    }\n",
              "    80% {\n",
              "      border-color: transparent;\n",
              "      border-right-color: var(--fill-color);\n",
              "      border-bottom-color: var(--fill-color);\n",
              "    }\n",
              "    90% {\n",
              "      border-color: transparent;\n",
              "      border-bottom-color: var(--fill-color);\n",
              "    }\n",
              "  }\n",
              "</style>\n",
              "\n",
              "  <script>\n",
              "    async function quickchart(key) {\n",
              "      const quickchartButtonEl =\n",
              "        document.querySelector('#' + key + ' button');\n",
              "      quickchartButtonEl.disabled = true;  // To prevent multiple clicks.\n",
              "      quickchartButtonEl.classList.add('colab-df-spinner');\n",
              "      try {\n",
              "        const charts = await google.colab.kernel.invokeFunction(\n",
              "            'suggestCharts', [key], {});\n",
              "      } catch (error) {\n",
              "        console.error('Error during call to suggestCharts:', error);\n",
              "      }\n",
              "      quickchartButtonEl.classList.remove('colab-df-spinner');\n",
              "      quickchartButtonEl.classList.add('colab-df-quickchart-complete');\n",
              "    }\n",
              "    (() => {\n",
              "      let quickchartButtonEl =\n",
              "        document.querySelector('#df-074a56d4-f213-4fa0-80b7-e7eb0cadf0b0 button');\n",
              "      quickchartButtonEl.style.display =\n",
              "        google.colab.kernel.accessAllowed ? 'block' : 'none';\n",
              "    })();\n",
              "  </script>\n",
              "</div>\n",
              "\n",
              "    </div>\n",
              "  </div>\n"
            ],
            "application/vnd.google.colaboratory.intrinsic+json": {
              "type": "dataframe",
              "summary": "{\n  \"name\": \"df\",\n  \"rows\": 5,\n  \"fields\": [\n    {\n      \"column\": \"User_ID\",\n      \"properties\": {\n        \"dtype\": \"number\",\n        \"std\": 0,\n        \"min\": 1003843,\n        \"max\": 1003845,\n        \"num_unique_values\": 3,\n        \"samples\": [\n          1003843,\n          1003844,\n          1003845\n        ],\n        \"semantic_type\": \"\",\n        \"description\": \"\"\n      }\n    },\n    {\n      \"column\": \"Product_ID\",\n      \"properties\": {\n        \"dtype\": \"string\",\n        \"num_unique_values\": 5,\n        \"samples\": [\n          \"P00359942\",\n          \"P0022\",\n          \"P00193842\"\n        ],\n        \"semantic_type\": \"\",\n        \"description\": \"\"\n      }\n    },\n    {\n      \"column\": \"Gender\",\n      \"properties\": {\n        \"dtype\": \"category\",\n        \"num_unique_values\": 2,\n        \"samples\": [\n          \"M\",\n          \"F\"\n        ],\n        \"semantic_type\": \"\",\n        \"description\": \"\"\n      }\n    },\n    {\n      \"column\": \"Age\",\n      \"properties\": {\n        \"dtype\": \"string\",\n        \"num_unique_values\": 3,\n        \"samples\": [\n          \"0-17\",\n          \"18-25\"\n        ],\n        \"semantic_type\": \"\",\n        \"description\": \"\"\n      }\n    },\n    {\n      \"column\": \"Occupation\",\n      \"properties\": {\n        \"dtype\": \"number\",\n        \"std\": 4.123105625617661,\n        \"min\": 4.0,\n        \"max\": 12.0,\n        \"num_unique_values\": 3,\n        \"samples\": [\n          10.0,\n          4.0\n        ],\n        \"semantic_type\": \"\",\n        \"description\": \"\"\n      }\n    },\n    {\n      \"column\": \"City_Category\",\n      \"properties\": {\n        \"dtype\": \"category\",\n        \"num_unique_values\": 2,\n        \"samples\": [\n          \"C\",\n          \"B\"\n        ],\n        \"semantic_type\": \"\",\n        \"description\": \"\"\n      }\n    },\n    {\n      \"column\": \"Stay_In_Current_City_Years\",\n      \"properties\": {\n        \"dtype\": \"string\",\n        \"num_unique_values\": 3,\n        \"samples\": [\n          \"2\",\n          \"3\"\n        ],\n        \"semantic_type\": \"\",\n        \"description\": \"\"\n      }\n    },\n    {\n      \"column\": \"Marital_Status\",\n      \"properties\": {\n        \"dtype\": \"number\",\n        \"std\": 0.5,\n        \"min\": 0.0,\n        \"max\": 1.0,\n        \"num_unique_values\": 2,\n        \"samples\": [\n          1.0,\n          0.0\n        ],\n        \"semantic_type\": \"\",\n        \"description\": \"\"\n      }\n    },\n    {\n      \"column\": \"Product_Category\",\n      \"properties\": {\n        \"dtype\": \"number\",\n        \"std\": 5.057996968497839,\n        \"min\": 1.0,\n        \"max\": 11.0,\n        \"num_unique_values\": 3,\n        \"samples\": [\n          4.0,\n          11.0\n        ],\n        \"semantic_type\": \"\",\n        \"description\": \"\"\n      }\n    },\n    {\n      \"column\": \"Purchase\",\n      \"properties\": {\n        \"dtype\": \"number\",\n        \"std\": 7671.125384626865,\n        \"min\": 1433.0,\n        \"max\": 19456.0,\n        \"num_unique_values\": 4,\n        \"samples\": [\n          6138.0,\n          19456.0\n        ],\n        \"semantic_type\": \"\",\n        \"description\": \"\"\n      }\n    }\n  ]\n}"
            }
          },
          "metadata": {},
          "execution_count": 5
        }
      ]
    },
    {
      "cell_type": "code",
      "source": [
        "df.shape"
      ],
      "metadata": {
        "colab": {
          "base_uri": "https://localhost:8080/"
        },
        "id": "f79eIbya5Xs1",
        "outputId": "b7764376-adb8-4fcb-a112-33ac04e96a97"
      },
      "execution_count": 6,
      "outputs": [
        {
          "output_type": "execute_result",
          "data": {
            "text/plain": [
              "(25037, 10)"
            ]
          },
          "metadata": {},
          "execution_count": 6
        }
      ]
    },
    {
      "cell_type": "code",
      "source": [
        "df.info()"
      ],
      "metadata": {
        "colab": {
          "base_uri": "https://localhost:8080/"
        },
        "id": "vhcVM_lV5ayn",
        "outputId": "a65d6771-f891-4400-8d8d-bc433efe0467"
      },
      "execution_count": 7,
      "outputs": [
        {
          "output_type": "stream",
          "name": "stdout",
          "text": [
            "<class 'pandas.core.frame.DataFrame'>\n",
            "RangeIndex: 25037 entries, 0 to 25036\n",
            "Data columns (total 10 columns):\n",
            " #   Column                      Non-Null Count  Dtype  \n",
            "---  ------                      --------------  -----  \n",
            " 0   User_ID                     25037 non-null  int64  \n",
            " 1   Product_ID                  25037 non-null  object \n",
            " 2   Gender                      25036 non-null  object \n",
            " 3   Age                         25036 non-null  object \n",
            " 4   Occupation                  25036 non-null  float64\n",
            " 5   City_Category               25036 non-null  object \n",
            " 6   Stay_In_Current_City_Years  25036 non-null  object \n",
            " 7   Marital_Status              25036 non-null  float64\n",
            " 8   Product_Category            25036 non-null  float64\n",
            " 9   Purchase                    25036 non-null  float64\n",
            "dtypes: float64(4), int64(1), object(5)\n",
            "memory usage: 1.9+ MB\n"
          ]
        }
      ]
    },
    {
      "cell_type": "markdown",
      "source": [
        "**Insights**\n",
        "\n",
        ">From the above analysis, it is clear that, data has total of 10 features with lots of mixed alpha numeric data.\n",
        "\n",
        ">Apart from Purchase Column, all the other data types are of categorical type. We will change the datatypes of all such columns to category"
      ],
      "metadata": {
        "id": "aRKMW8ze5k5s"
      }
    },
    {
      "cell_type": "markdown",
      "source": [
        "** Changing the Datatype of Columns**\n",
        "\n",
        "\n",
        "\n"
      ],
      "metadata": {
        "id": "dLhgJ1Hc6OUS"
      }
    },
    {
      "cell_type": "code",
      "source": [
        "for i in df.columns[:-1]:\n",
        "    df[i] = df[i].astype('category')\n",
        "\n",
        "df.info()"
      ],
      "metadata": {
        "colab": {
          "base_uri": "https://localhost:8080/"
        },
        "id": "TbsLqaGE6WJ0",
        "outputId": "c6763046-15ec-4f76-9c9d-6fb1540f77f1"
      },
      "execution_count": 8,
      "outputs": [
        {
          "output_type": "stream",
          "name": "stdout",
          "text": [
            "<class 'pandas.core.frame.DataFrame'>\n",
            "RangeIndex: 25037 entries, 0 to 25036\n",
            "Data columns (total 10 columns):\n",
            " #   Column                      Non-Null Count  Dtype   \n",
            "---  ------                      --------------  -----   \n",
            " 0   User_ID                     25037 non-null  category\n",
            " 1   Product_ID                  25037 non-null  category\n",
            " 2   Gender                      25036 non-null  category\n",
            " 3   Age                         25036 non-null  category\n",
            " 4   Occupation                  25036 non-null  category\n",
            " 5   City_Category               25036 non-null  category\n",
            " 6   Stay_In_Current_City_Years  25036 non-null  category\n",
            " 7   Marital_Status              25036 non-null  category\n",
            " 8   Product_Category            25036 non-null  category\n",
            " 9   Purchase                    25036 non-null  float64 \n",
            "dtypes: category(9), float64(1)\n",
            "memory usage: 709.1 KB\n"
          ]
        }
      ]
    },
    {
      "cell_type": "markdown",
      "source": [
        "**Statistical Summary**"
      ],
      "metadata": {
        "id": "B2uCvuUz540N"
      }
    },
    {
      "cell_type": "code",
      "source": [
        "df.describe(include = 'category')"
      ],
      "metadata": {
        "colab": {
          "base_uri": "https://localhost:8080/",
          "height": 175
        },
        "id": "ueZXp2uQ5hMB",
        "outputId": "fff7ef7d-c05c-486a-d786-0175cb1e0a5d"
      },
      "execution_count": 9,
      "outputs": [
        {
          "output_type": "execute_result",
          "data": {
            "text/plain": [
              "        User_ID Product_ID Gender    Age  Occupation City_Category  \\\n",
              "count     25037      25037  25036  25036     25036.0         25036   \n",
              "unique     3388       2821      2      7        21.0             3   \n",
              "top     1001680  P00025442      M  26-35         4.0             B   \n",
              "freq         88         90  19139   9826      3466.0         10609   \n",
              "\n",
              "       Stay_In_Current_City_Years  Marital_Status  Product_Category  \n",
              "count                       25036         25036.0           25036.0  \n",
              "unique                          5             2.0              18.0  \n",
              "top                             1             0.0               5.0  \n",
              "freq                         8687         15033.0            7033.0  "
            ],
            "text/html": [
              "\n",
              "  <div id=\"df-09d47f05-46e2-4815-afd4-03eb36059f72\" class=\"colab-df-container\">\n",
              "    <div>\n",
              "<style scoped>\n",
              "    .dataframe tbody tr th:only-of-type {\n",
              "        vertical-align: middle;\n",
              "    }\n",
              "\n",
              "    .dataframe tbody tr th {\n",
              "        vertical-align: top;\n",
              "    }\n",
              "\n",
              "    .dataframe thead th {\n",
              "        text-align: right;\n",
              "    }\n",
              "</style>\n",
              "<table border=\"1\" class=\"dataframe\">\n",
              "  <thead>\n",
              "    <tr style=\"text-align: right;\">\n",
              "      <th></th>\n",
              "      <th>User_ID</th>\n",
              "      <th>Product_ID</th>\n",
              "      <th>Gender</th>\n",
              "      <th>Age</th>\n",
              "      <th>Occupation</th>\n",
              "      <th>City_Category</th>\n",
              "      <th>Stay_In_Current_City_Years</th>\n",
              "      <th>Marital_Status</th>\n",
              "      <th>Product_Category</th>\n",
              "    </tr>\n",
              "  </thead>\n",
              "  <tbody>\n",
              "    <tr>\n",
              "      <th>count</th>\n",
              "      <td>25037</td>\n",
              "      <td>25037</td>\n",
              "      <td>25036</td>\n",
              "      <td>25036</td>\n",
              "      <td>25036.0</td>\n",
              "      <td>25036</td>\n",
              "      <td>25036</td>\n",
              "      <td>25036.0</td>\n",
              "      <td>25036.0</td>\n",
              "    </tr>\n",
              "    <tr>\n",
              "      <th>unique</th>\n",
              "      <td>3388</td>\n",
              "      <td>2821</td>\n",
              "      <td>2</td>\n",
              "      <td>7</td>\n",
              "      <td>21.0</td>\n",
              "      <td>3</td>\n",
              "      <td>5</td>\n",
              "      <td>2.0</td>\n",
              "      <td>18.0</td>\n",
              "    </tr>\n",
              "    <tr>\n",
              "      <th>top</th>\n",
              "      <td>1001680</td>\n",
              "      <td>P00025442</td>\n",
              "      <td>M</td>\n",
              "      <td>26-35</td>\n",
              "      <td>4.0</td>\n",
              "      <td>B</td>\n",
              "      <td>1</td>\n",
              "      <td>0.0</td>\n",
              "      <td>5.0</td>\n",
              "    </tr>\n",
              "    <tr>\n",
              "      <th>freq</th>\n",
              "      <td>88</td>\n",
              "      <td>90</td>\n",
              "      <td>19139</td>\n",
              "      <td>9826</td>\n",
              "      <td>3466.0</td>\n",
              "      <td>10609</td>\n",
              "      <td>8687</td>\n",
              "      <td>15033.0</td>\n",
              "      <td>7033.0</td>\n",
              "    </tr>\n",
              "  </tbody>\n",
              "</table>\n",
              "</div>\n",
              "    <div class=\"colab-df-buttons\">\n",
              "\n",
              "  <div class=\"colab-df-container\">\n",
              "    <button class=\"colab-df-convert\" onclick=\"convertToInteractive('df-09d47f05-46e2-4815-afd4-03eb36059f72')\"\n",
              "            title=\"Convert this dataframe to an interactive table.\"\n",
              "            style=\"display:none;\">\n",
              "\n",
              "  <svg xmlns=\"http://www.w3.org/2000/svg\" height=\"24px\" viewBox=\"0 -960 960 960\">\n",
              "    <path d=\"M120-120v-720h720v720H120Zm60-500h600v-160H180v160Zm220 220h160v-160H400v160Zm0 220h160v-160H400v160ZM180-400h160v-160H180v160Zm440 0h160v-160H620v160ZM180-180h160v-160H180v160Zm440 0h160v-160H620v160Z\"/>\n",
              "  </svg>\n",
              "    </button>\n",
              "\n",
              "  <style>\n",
              "    .colab-df-container {\n",
              "      display:flex;\n",
              "      gap: 12px;\n",
              "    }\n",
              "\n",
              "    .colab-df-convert {\n",
              "      background-color: #E8F0FE;\n",
              "      border: none;\n",
              "      border-radius: 50%;\n",
              "      cursor: pointer;\n",
              "      display: none;\n",
              "      fill: #1967D2;\n",
              "      height: 32px;\n",
              "      padding: 0 0 0 0;\n",
              "      width: 32px;\n",
              "    }\n",
              "\n",
              "    .colab-df-convert:hover {\n",
              "      background-color: #E2EBFA;\n",
              "      box-shadow: 0px 1px 2px rgba(60, 64, 67, 0.3), 0px 1px 3px 1px rgba(60, 64, 67, 0.15);\n",
              "      fill: #174EA6;\n",
              "    }\n",
              "\n",
              "    .colab-df-buttons div {\n",
              "      margin-bottom: 4px;\n",
              "    }\n",
              "\n",
              "    [theme=dark] .colab-df-convert {\n",
              "      background-color: #3B4455;\n",
              "      fill: #D2E3FC;\n",
              "    }\n",
              "\n",
              "    [theme=dark] .colab-df-convert:hover {\n",
              "      background-color: #434B5C;\n",
              "      box-shadow: 0px 1px 3px 1px rgba(0, 0, 0, 0.15);\n",
              "      filter: drop-shadow(0px 1px 2px rgba(0, 0, 0, 0.3));\n",
              "      fill: #FFFFFF;\n",
              "    }\n",
              "  </style>\n",
              "\n",
              "    <script>\n",
              "      const buttonEl =\n",
              "        document.querySelector('#df-09d47f05-46e2-4815-afd4-03eb36059f72 button.colab-df-convert');\n",
              "      buttonEl.style.display =\n",
              "        google.colab.kernel.accessAllowed ? 'block' : 'none';\n",
              "\n",
              "      async function convertToInteractive(key) {\n",
              "        const element = document.querySelector('#df-09d47f05-46e2-4815-afd4-03eb36059f72');\n",
              "        const dataTable =\n",
              "          await google.colab.kernel.invokeFunction('convertToInteractive',\n",
              "                                                    [key], {});\n",
              "        if (!dataTable) return;\n",
              "\n",
              "        const docLinkHtml = 'Like what you see? Visit the ' +\n",
              "          '<a target=\"_blank\" href=https://colab.research.google.com/notebooks/data_table.ipynb>data table notebook</a>'\n",
              "          + ' to learn more about interactive tables.';\n",
              "        element.innerHTML = '';\n",
              "        dataTable['output_type'] = 'display_data';\n",
              "        await google.colab.output.renderOutput(dataTable, element);\n",
              "        const docLink = document.createElement('div');\n",
              "        docLink.innerHTML = docLinkHtml;\n",
              "        element.appendChild(docLink);\n",
              "      }\n",
              "    </script>\n",
              "  </div>\n",
              "\n",
              "\n",
              "<div id=\"df-80b8b76c-ba8d-4fbf-b67e-101e5df194ab\">\n",
              "  <button class=\"colab-df-quickchart\" onclick=\"quickchart('df-80b8b76c-ba8d-4fbf-b67e-101e5df194ab')\"\n",
              "            title=\"Suggest charts\"\n",
              "            style=\"display:none;\">\n",
              "\n",
              "<svg xmlns=\"http://www.w3.org/2000/svg\" height=\"24px\"viewBox=\"0 0 24 24\"\n",
              "     width=\"24px\">\n",
              "    <g>\n",
              "        <path d=\"M19 3H5c-1.1 0-2 .9-2 2v14c0 1.1.9 2 2 2h14c1.1 0 2-.9 2-2V5c0-1.1-.9-2-2-2zM9 17H7v-7h2v7zm4 0h-2V7h2v10zm4 0h-2v-4h2v4z\"/>\n",
              "    </g>\n",
              "</svg>\n",
              "  </button>\n",
              "\n",
              "<style>\n",
              "  .colab-df-quickchart {\n",
              "      --bg-color: #E8F0FE;\n",
              "      --fill-color: #1967D2;\n",
              "      --hover-bg-color: #E2EBFA;\n",
              "      --hover-fill-color: #174EA6;\n",
              "      --disabled-fill-color: #AAA;\n",
              "      --disabled-bg-color: #DDD;\n",
              "  }\n",
              "\n",
              "  [theme=dark] .colab-df-quickchart {\n",
              "      --bg-color: #3B4455;\n",
              "      --fill-color: #D2E3FC;\n",
              "      --hover-bg-color: #434B5C;\n",
              "      --hover-fill-color: #FFFFFF;\n",
              "      --disabled-bg-color: #3B4455;\n",
              "      --disabled-fill-color: #666;\n",
              "  }\n",
              "\n",
              "  .colab-df-quickchart {\n",
              "    background-color: var(--bg-color);\n",
              "    border: none;\n",
              "    border-radius: 50%;\n",
              "    cursor: pointer;\n",
              "    display: none;\n",
              "    fill: var(--fill-color);\n",
              "    height: 32px;\n",
              "    padding: 0;\n",
              "    width: 32px;\n",
              "  }\n",
              "\n",
              "  .colab-df-quickchart:hover {\n",
              "    background-color: var(--hover-bg-color);\n",
              "    box-shadow: 0 1px 2px rgba(60, 64, 67, 0.3), 0 1px 3px 1px rgba(60, 64, 67, 0.15);\n",
              "    fill: var(--button-hover-fill-color);\n",
              "  }\n",
              "\n",
              "  .colab-df-quickchart-complete:disabled,\n",
              "  .colab-df-quickchart-complete:disabled:hover {\n",
              "    background-color: var(--disabled-bg-color);\n",
              "    fill: var(--disabled-fill-color);\n",
              "    box-shadow: none;\n",
              "  }\n",
              "\n",
              "  .colab-df-spinner {\n",
              "    border: 2px solid var(--fill-color);\n",
              "    border-color: transparent;\n",
              "    border-bottom-color: var(--fill-color);\n",
              "    animation:\n",
              "      spin 1s steps(1) infinite;\n",
              "  }\n",
              "\n",
              "  @keyframes spin {\n",
              "    0% {\n",
              "      border-color: transparent;\n",
              "      border-bottom-color: var(--fill-color);\n",
              "      border-left-color: var(--fill-color);\n",
              "    }\n",
              "    20% {\n",
              "      border-color: transparent;\n",
              "      border-left-color: var(--fill-color);\n",
              "      border-top-color: var(--fill-color);\n",
              "    }\n",
              "    30% {\n",
              "      border-color: transparent;\n",
              "      border-left-color: var(--fill-color);\n",
              "      border-top-color: var(--fill-color);\n",
              "      border-right-color: var(--fill-color);\n",
              "    }\n",
              "    40% {\n",
              "      border-color: transparent;\n",
              "      border-right-color: var(--fill-color);\n",
              "      border-top-color: var(--fill-color);\n",
              "    }\n",
              "    60% {\n",
              "      border-color: transparent;\n",
              "      border-right-color: var(--fill-color);\n",
              "    }\n",
              "    80% {\n",
              "      border-color: transparent;\n",
              "      border-right-color: var(--fill-color);\n",
              "      border-bottom-color: var(--fill-color);\n",
              "    }\n",
              "    90% {\n",
              "      border-color: transparent;\n",
              "      border-bottom-color: var(--fill-color);\n",
              "    }\n",
              "  }\n",
              "</style>\n",
              "\n",
              "  <script>\n",
              "    async function quickchart(key) {\n",
              "      const quickchartButtonEl =\n",
              "        document.querySelector('#' + key + ' button');\n",
              "      quickchartButtonEl.disabled = true;  // To prevent multiple clicks.\n",
              "      quickchartButtonEl.classList.add('colab-df-spinner');\n",
              "      try {\n",
              "        const charts = await google.colab.kernel.invokeFunction(\n",
              "            'suggestCharts', [key], {});\n",
              "      } catch (error) {\n",
              "        console.error('Error during call to suggestCharts:', error);\n",
              "      }\n",
              "      quickchartButtonEl.classList.remove('colab-df-spinner');\n",
              "      quickchartButtonEl.classList.add('colab-df-quickchart-complete');\n",
              "    }\n",
              "    (() => {\n",
              "      let quickchartButtonEl =\n",
              "        document.querySelector('#df-80b8b76c-ba8d-4fbf-b67e-101e5df194ab button');\n",
              "      quickchartButtonEl.style.display =\n",
              "        google.colab.kernel.accessAllowed ? 'block' : 'none';\n",
              "    })();\n",
              "  </script>\n",
              "</div>\n",
              "\n",
              "    </div>\n",
              "  </div>\n"
            ],
            "application/vnd.google.colaboratory.intrinsic+json": {
              "type": "dataframe",
              "summary": "{\n  \"name\": \"df\",\n  \"rows\": 4,\n  \"fields\": [\n    {\n      \"column\": \"User_ID\",\n      \"properties\": {\n        \"dtype\": \"number\",\n        \"std\": 496211,\n        \"min\": 88,\n        \"max\": 1001680,\n        \"num_unique_values\": 4,\n        \"samples\": [\n          3388,\n          88,\n          25037\n        ],\n        \"semantic_type\": \"\",\n        \"description\": \"\"\n      }\n    },\n    {\n      \"column\": \"Product_ID\",\n      \"properties\": {\n        \"dtype\": \"string\",\n        \"num_unique_values\": 4,\n        \"samples\": [\n          2821,\n          \"90\",\n          \"25037\"\n        ],\n        \"semantic_type\": \"\",\n        \"description\": \"\"\n      }\n    },\n    {\n      \"column\": \"Gender\",\n      \"properties\": {\n        \"dtype\": \"string\",\n        \"num_unique_values\": 4,\n        \"samples\": [\n          2,\n          \"19139\",\n          \"25036\"\n        ],\n        \"semantic_type\": \"\",\n        \"description\": \"\"\n      }\n    },\n    {\n      \"column\": \"Age\",\n      \"properties\": {\n        \"dtype\": \"string\",\n        \"num_unique_values\": 4,\n        \"samples\": [\n          7,\n          \"9826\",\n          \"25036\"\n        ],\n        \"semantic_type\": \"\",\n        \"description\": \"\"\n      }\n    },\n    {\n      \"column\": \"Occupation\",\n      \"properties\": {\n        \"dtype\": \"number\",\n        \"std\": 12046.679718910103,\n        \"min\": 4.0,\n        \"max\": 25036.0,\n        \"num_unique_values\": 4,\n        \"samples\": [\n          21.0,\n          3466.0,\n          25036.0\n        ],\n        \"semantic_type\": \"\",\n        \"description\": \"\"\n      }\n    },\n    {\n      \"column\": \"City_Category\",\n      \"properties\": {\n        \"dtype\": \"string\",\n        \"num_unique_values\": 4,\n        \"samples\": [\n          3,\n          \"10609\",\n          \"25036\"\n        ],\n        \"semantic_type\": \"\",\n        \"description\": \"\"\n      }\n    },\n    {\n      \"column\": \"Stay_In_Current_City_Years\",\n      \"properties\": {\n        \"dtype\": \"string\",\n        \"num_unique_values\": 4,\n        \"samples\": [\n          5,\n          \"8687\",\n          \"25036\"\n        ],\n        \"semantic_type\": \"\",\n        \"description\": \"\"\n      }\n    },\n    {\n      \"column\": \"Marital_Status\",\n      \"properties\": {\n        \"dtype\": \"number\",\n        \"std\": 12266.093221424117,\n        \"min\": 0.0,\n        \"max\": 25036.0,\n        \"num_unique_values\": 4,\n        \"samples\": [\n          2.0,\n          15033.0,\n          25036.0\n        ],\n        \"semantic_type\": \"\",\n        \"description\": \"\"\n      }\n    },\n    {\n      \"column\": \"Product_Category\",\n      \"properties\": {\n        \"dtype\": \"number\",\n        \"std\": 11815.112046301832,\n        \"min\": 5.0,\n        \"max\": 25036.0,\n        \"num_unique_values\": 4,\n        \"samples\": [\n          18.0,\n          7033.0,\n          25036.0\n        ],\n        \"semantic_type\": \"\",\n        \"description\": \"\"\n      }\n    }\n  ]\n}"
            }
          },
          "metadata": {},
          "execution_count": 9
        }
      ]
    },
    {
      "cell_type": "markdown",
      "source": [
        "Satistical summary of object type columns\n",
        "\n",
        "1.   Li1. User_ID - Among 5,50,068 transactions there are 5891 unique user_id, indicating same customers buying multiple products.\n",
        "\n",
        "2. Product_ID - Among 5,50,068 transactions there are 3631 unique products,with the product having the code P00265242 being the highest seller, with a maximum of 1,880 units sold.\n",
        "\n",
        "3. Gender - Out of 5,50,068 transactions, 4,14,259 (nearly 75%) were done by male gender indicating a significant disparity in purchase behavior between males and females during the Black Friday event.\n",
        "\n",
        "4. Age - We have 7 unique age groups in the dataset. 26 - 35 Age group has maximum of 2,19,587 transactions. We will analyse this feature in detail in future\n",
        "\n",
        "5. Stay_In_Current_City_Years - Customers with 1 year of stay in current city accounted to maximum of 1,93,821 transactions among all the other customers with (0,2,3,4+) years of stay in current city\n",
        "\n",
        "6. Marital_Status - 59% of the total transactions were done by Unmarried Customers and 41% by Married Customers.st item\n",
        "\n",
        "\n"
      ],
      "metadata": {
        "id": "u4fBPM3x64XE"
      }
    },
    {
      "cell_type": "markdown",
      "source": [
        "**Satistical summary of numerical data type columns**"
      ],
      "metadata": {
        "id": "m8pMCjTKAIlJ"
      }
    },
    {
      "cell_type": "code",
      "source": [
        "df.describe()"
      ],
      "metadata": {
        "colab": {
          "base_uri": "https://localhost:8080/",
          "height": 300
        },
        "id": "Yae3PD2D5-yz",
        "outputId": "8f35965e-53d3-4aa9-985c-68b6a97a9aed"
      },
      "execution_count": 10,
      "outputs": [
        {
          "output_type": "execute_result",
          "data": {
            "text/plain": [
              "           Purchase\n",
              "count  25036.000000\n",
              "mean    9240.939647\n",
              "std     4937.285195\n",
              "min      186.000000\n",
              "25%     5837.750000\n",
              "50%     8044.000000\n",
              "75%    11997.500000\n",
              "max    23958.000000"
            ],
            "text/html": [
              "\n",
              "  <div id=\"df-0863eb5b-3044-4efd-883f-e3643b3289f9\" class=\"colab-df-container\">\n",
              "    <div>\n",
              "<style scoped>\n",
              "    .dataframe tbody tr th:only-of-type {\n",
              "        vertical-align: middle;\n",
              "    }\n",
              "\n",
              "    .dataframe tbody tr th {\n",
              "        vertical-align: top;\n",
              "    }\n",
              "\n",
              "    .dataframe thead th {\n",
              "        text-align: right;\n",
              "    }\n",
              "</style>\n",
              "<table border=\"1\" class=\"dataframe\">\n",
              "  <thead>\n",
              "    <tr style=\"text-align: right;\">\n",
              "      <th></th>\n",
              "      <th>Purchase</th>\n",
              "    </tr>\n",
              "  </thead>\n",
              "  <tbody>\n",
              "    <tr>\n",
              "      <th>count</th>\n",
              "      <td>25036.000000</td>\n",
              "    </tr>\n",
              "    <tr>\n",
              "      <th>mean</th>\n",
              "      <td>9240.939647</td>\n",
              "    </tr>\n",
              "    <tr>\n",
              "      <th>std</th>\n",
              "      <td>4937.285195</td>\n",
              "    </tr>\n",
              "    <tr>\n",
              "      <th>min</th>\n",
              "      <td>186.000000</td>\n",
              "    </tr>\n",
              "    <tr>\n",
              "      <th>25%</th>\n",
              "      <td>5837.750000</td>\n",
              "    </tr>\n",
              "    <tr>\n",
              "      <th>50%</th>\n",
              "      <td>8044.000000</td>\n",
              "    </tr>\n",
              "    <tr>\n",
              "      <th>75%</th>\n",
              "      <td>11997.500000</td>\n",
              "    </tr>\n",
              "    <tr>\n",
              "      <th>max</th>\n",
              "      <td>23958.000000</td>\n",
              "    </tr>\n",
              "  </tbody>\n",
              "</table>\n",
              "</div>\n",
              "    <div class=\"colab-df-buttons\">\n",
              "\n",
              "  <div class=\"colab-df-container\">\n",
              "    <button class=\"colab-df-convert\" onclick=\"convertToInteractive('df-0863eb5b-3044-4efd-883f-e3643b3289f9')\"\n",
              "            title=\"Convert this dataframe to an interactive table.\"\n",
              "            style=\"display:none;\">\n",
              "\n",
              "  <svg xmlns=\"http://www.w3.org/2000/svg\" height=\"24px\" viewBox=\"0 -960 960 960\">\n",
              "    <path d=\"M120-120v-720h720v720H120Zm60-500h600v-160H180v160Zm220 220h160v-160H400v160Zm0 220h160v-160H400v160ZM180-400h160v-160H180v160Zm440 0h160v-160H620v160ZM180-180h160v-160H180v160Zm440 0h160v-160H620v160Z\"/>\n",
              "  </svg>\n",
              "    </button>\n",
              "\n",
              "  <style>\n",
              "    .colab-df-container {\n",
              "      display:flex;\n",
              "      gap: 12px;\n",
              "    }\n",
              "\n",
              "    .colab-df-convert {\n",
              "      background-color: #E8F0FE;\n",
              "      border: none;\n",
              "      border-radius: 50%;\n",
              "      cursor: pointer;\n",
              "      display: none;\n",
              "      fill: #1967D2;\n",
              "      height: 32px;\n",
              "      padding: 0 0 0 0;\n",
              "      width: 32px;\n",
              "    }\n",
              "\n",
              "    .colab-df-convert:hover {\n",
              "      background-color: #E2EBFA;\n",
              "      box-shadow: 0px 1px 2px rgba(60, 64, 67, 0.3), 0px 1px 3px 1px rgba(60, 64, 67, 0.15);\n",
              "      fill: #174EA6;\n",
              "    }\n",
              "\n",
              "    .colab-df-buttons div {\n",
              "      margin-bottom: 4px;\n",
              "    }\n",
              "\n",
              "    [theme=dark] .colab-df-convert {\n",
              "      background-color: #3B4455;\n",
              "      fill: #D2E3FC;\n",
              "    }\n",
              "\n",
              "    [theme=dark] .colab-df-convert:hover {\n",
              "      background-color: #434B5C;\n",
              "      box-shadow: 0px 1px 3px 1px rgba(0, 0, 0, 0.15);\n",
              "      filter: drop-shadow(0px 1px 2px rgba(0, 0, 0, 0.3));\n",
              "      fill: #FFFFFF;\n",
              "    }\n",
              "  </style>\n",
              "\n",
              "    <script>\n",
              "      const buttonEl =\n",
              "        document.querySelector('#df-0863eb5b-3044-4efd-883f-e3643b3289f9 button.colab-df-convert');\n",
              "      buttonEl.style.display =\n",
              "        google.colab.kernel.accessAllowed ? 'block' : 'none';\n",
              "\n",
              "      async function convertToInteractive(key) {\n",
              "        const element = document.querySelector('#df-0863eb5b-3044-4efd-883f-e3643b3289f9');\n",
              "        const dataTable =\n",
              "          await google.colab.kernel.invokeFunction('convertToInteractive',\n",
              "                                                    [key], {});\n",
              "        if (!dataTable) return;\n",
              "\n",
              "        const docLinkHtml = 'Like what you see? Visit the ' +\n",
              "          '<a target=\"_blank\" href=https://colab.research.google.com/notebooks/data_table.ipynb>data table notebook</a>'\n",
              "          + ' to learn more about interactive tables.';\n",
              "        element.innerHTML = '';\n",
              "        dataTable['output_type'] = 'display_data';\n",
              "        await google.colab.output.renderOutput(dataTable, element);\n",
              "        const docLink = document.createElement('div');\n",
              "        docLink.innerHTML = docLinkHtml;\n",
              "        element.appendChild(docLink);\n",
              "      }\n",
              "    </script>\n",
              "  </div>\n",
              "\n",
              "\n",
              "<div id=\"df-71511562-eb61-4b0a-9219-6cc11284baea\">\n",
              "  <button class=\"colab-df-quickchart\" onclick=\"quickchart('df-71511562-eb61-4b0a-9219-6cc11284baea')\"\n",
              "            title=\"Suggest charts\"\n",
              "            style=\"display:none;\">\n",
              "\n",
              "<svg xmlns=\"http://www.w3.org/2000/svg\" height=\"24px\"viewBox=\"0 0 24 24\"\n",
              "     width=\"24px\">\n",
              "    <g>\n",
              "        <path d=\"M19 3H5c-1.1 0-2 .9-2 2v14c0 1.1.9 2 2 2h14c1.1 0 2-.9 2-2V5c0-1.1-.9-2-2-2zM9 17H7v-7h2v7zm4 0h-2V7h2v10zm4 0h-2v-4h2v4z\"/>\n",
              "    </g>\n",
              "</svg>\n",
              "  </button>\n",
              "\n",
              "<style>\n",
              "  .colab-df-quickchart {\n",
              "      --bg-color: #E8F0FE;\n",
              "      --fill-color: #1967D2;\n",
              "      --hover-bg-color: #E2EBFA;\n",
              "      --hover-fill-color: #174EA6;\n",
              "      --disabled-fill-color: #AAA;\n",
              "      --disabled-bg-color: #DDD;\n",
              "  }\n",
              "\n",
              "  [theme=dark] .colab-df-quickchart {\n",
              "      --bg-color: #3B4455;\n",
              "      --fill-color: #D2E3FC;\n",
              "      --hover-bg-color: #434B5C;\n",
              "      --hover-fill-color: #FFFFFF;\n",
              "      --disabled-bg-color: #3B4455;\n",
              "      --disabled-fill-color: #666;\n",
              "  }\n",
              "\n",
              "  .colab-df-quickchart {\n",
              "    background-color: var(--bg-color);\n",
              "    border: none;\n",
              "    border-radius: 50%;\n",
              "    cursor: pointer;\n",
              "    display: none;\n",
              "    fill: var(--fill-color);\n",
              "    height: 32px;\n",
              "    padding: 0;\n",
              "    width: 32px;\n",
              "  }\n",
              "\n",
              "  .colab-df-quickchart:hover {\n",
              "    background-color: var(--hover-bg-color);\n",
              "    box-shadow: 0 1px 2px rgba(60, 64, 67, 0.3), 0 1px 3px 1px rgba(60, 64, 67, 0.15);\n",
              "    fill: var(--button-hover-fill-color);\n",
              "  }\n",
              "\n",
              "  .colab-df-quickchart-complete:disabled,\n",
              "  .colab-df-quickchart-complete:disabled:hover {\n",
              "    background-color: var(--disabled-bg-color);\n",
              "    fill: var(--disabled-fill-color);\n",
              "    box-shadow: none;\n",
              "  }\n",
              "\n",
              "  .colab-df-spinner {\n",
              "    border: 2px solid var(--fill-color);\n",
              "    border-color: transparent;\n",
              "    border-bottom-color: var(--fill-color);\n",
              "    animation:\n",
              "      spin 1s steps(1) infinite;\n",
              "  }\n",
              "\n",
              "  @keyframes spin {\n",
              "    0% {\n",
              "      border-color: transparent;\n",
              "      border-bottom-color: var(--fill-color);\n",
              "      border-left-color: var(--fill-color);\n",
              "    }\n",
              "    20% {\n",
              "      border-color: transparent;\n",
              "      border-left-color: var(--fill-color);\n",
              "      border-top-color: var(--fill-color);\n",
              "    }\n",
              "    30% {\n",
              "      border-color: transparent;\n",
              "      border-left-color: var(--fill-color);\n",
              "      border-top-color: var(--fill-color);\n",
              "      border-right-color: var(--fill-color);\n",
              "    }\n",
              "    40% {\n",
              "      border-color: transparent;\n",
              "      border-right-color: var(--fill-color);\n",
              "      border-top-color: var(--fill-color);\n",
              "    }\n",
              "    60% {\n",
              "      border-color: transparent;\n",
              "      border-right-color: var(--fill-color);\n",
              "    }\n",
              "    80% {\n",
              "      border-color: transparent;\n",
              "      border-right-color: var(--fill-color);\n",
              "      border-bottom-color: var(--fill-color);\n",
              "    }\n",
              "    90% {\n",
              "      border-color: transparent;\n",
              "      border-bottom-color: var(--fill-color);\n",
              "    }\n",
              "  }\n",
              "</style>\n",
              "\n",
              "  <script>\n",
              "    async function quickchart(key) {\n",
              "      const quickchartButtonEl =\n",
              "        document.querySelector('#' + key + ' button');\n",
              "      quickchartButtonEl.disabled = true;  // To prevent multiple clicks.\n",
              "      quickchartButtonEl.classList.add('colab-df-spinner');\n",
              "      try {\n",
              "        const charts = await google.colab.kernel.invokeFunction(\n",
              "            'suggestCharts', [key], {});\n",
              "      } catch (error) {\n",
              "        console.error('Error during call to suggestCharts:', error);\n",
              "      }\n",
              "      quickchartButtonEl.classList.remove('colab-df-spinner');\n",
              "      quickchartButtonEl.classList.add('colab-df-quickchart-complete');\n",
              "    }\n",
              "    (() => {\n",
              "      let quickchartButtonEl =\n",
              "        document.querySelector('#df-71511562-eb61-4b0a-9219-6cc11284baea button');\n",
              "      quickchartButtonEl.style.display =\n",
              "        google.colab.kernel.accessAllowed ? 'block' : 'none';\n",
              "    })();\n",
              "  </script>\n",
              "</div>\n",
              "\n",
              "    </div>\n",
              "  </div>\n"
            ],
            "application/vnd.google.colaboratory.intrinsic+json": {
              "type": "dataframe",
              "summary": "{\n  \"name\": \"df\",\n  \"rows\": 8,\n  \"fields\": [\n    {\n      \"column\": \"Purchase\",\n      \"properties\": {\n        \"dtype\": \"number\",\n        \"std\": 8927.508126526773,\n        \"min\": 186.0,\n        \"max\": 25036.0,\n        \"num_unique_values\": 8,\n        \"samples\": [\n          9240.939646908451,\n          8044.0,\n          25036.0\n        ],\n        \"semantic_type\": \"\",\n        \"description\": \"\"\n      }\n    }\n  ]\n}"
            }
          },
          "metadata": {},
          "execution_count": 10
        }
      ]
    },
    {
      "cell_type": "markdown",
      "source": [
        "The purchase amounts vary widely, with the minimum recorded purchase being 12\n",
        " and the maximum reaching 23961. The median purchase amount of $8047 is notably lower than the mean purchase amount of 9264, indicating a right-skewed distribution where a few high-value purchases pull up the mean"
      ],
      "metadata": {
        "id": "-1rjb5LXAWW4"
      }
    },
    {
      "cell_type": "markdown",
      "source": [
        "**Duplicate Detection**"
      ],
      "metadata": {
        "id": "RgVG2X0XAyuP"
      }
    },
    {
      "cell_type": "code",
      "source": [
        "df.duplicated().value_counts()"
      ],
      "metadata": {
        "colab": {
          "base_uri": "https://localhost:8080/",
          "height": 115
        },
        "id": "uiM0zeGdAMtR",
        "outputId": "048a21c5-61ab-491b-d474-eb2c8ea77876"
      },
      "execution_count": 11,
      "outputs": [
        {
          "output_type": "execute_result",
          "data": {
            "text/plain": [
              "False    25037\n",
              "Name: count, dtype: int64"
            ],
            "text/html": [
              "<div>\n",
              "<style scoped>\n",
              "    .dataframe tbody tr th:only-of-type {\n",
              "        vertical-align: middle;\n",
              "    }\n",
              "\n",
              "    .dataframe tbody tr th {\n",
              "        vertical-align: top;\n",
              "    }\n",
              "\n",
              "    .dataframe thead th {\n",
              "        text-align: right;\n",
              "    }\n",
              "</style>\n",
              "<table border=\"1\" class=\"dataframe\">\n",
              "  <thead>\n",
              "    <tr style=\"text-align: right;\">\n",
              "      <th></th>\n",
              "      <th>count</th>\n",
              "    </tr>\n",
              "  </thead>\n",
              "  <tbody>\n",
              "    <tr>\n",
              "      <th>False</th>\n",
              "      <td>25037</td>\n",
              "    </tr>\n",
              "  </tbody>\n",
              "</table>\n",
              "</div><br><label><b>dtype:</b> int64</label>"
            ]
          },
          "metadata": {},
          "execution_count": 11
        }
      ]
    },
    {
      "cell_type": "markdown",
      "source": [
        "There are no duplicate entries in the dataset"
      ],
      "metadata": {
        "id": "o8TMnyv9A8WI"
      }
    },
    {
      "cell_type": "markdown",
      "source": [
        " **Sanity Check for columns**"
      ],
      "metadata": {
        "id": "5asPvGNUBBad"
      }
    },
    {
      "cell_type": "code",
      "source": [
        "# checking the unique values for columns\n",
        "for i in df.columns:\n",
        "    print('Unique Values in',i,'column are :-')\n",
        "    print(df[i].unique())\n",
        "    print('-'*70)"
      ],
      "metadata": {
        "colab": {
          "base_uri": "https://localhost:8080/"
        },
        "id": "L3PvkP80A3pt",
        "outputId": "d88b00b7-57f6-4f6a-c197-47d05d538660"
      },
      "execution_count": 12,
      "outputs": [
        {
          "output_type": "stream",
          "name": "stdout",
          "text": [
            "Unique Values in User_ID column are :-\n",
            "[1000001, 1000002, 1000003, 1000004, 1000005, ..., 1003841, 1003842, 1003843, 1003844, 1003845]\n",
            "Length: 3388\n",
            "Categories (3388, int64): [1000001, 1000002, 1000003, 1000004, ..., 1003842, 1003843, 1003844, 1003845]\n",
            "----------------------------------------------------------------------\n",
            "Unique Values in Product_ID column are :-\n",
            "['P00069042', 'P00248942', 'P00087842', 'P00085442', 'P00285442', ..., 'P00333542', 'P00354042', 'P00229142', 'P00359942', 'P0022']\n",
            "Length: 2821\n",
            "Categories (2821, object): ['P00000142', 'P00000242', 'P00000342', 'P00000442', ..., 'P0099642',\n",
            "                            'P0099742', 'P0099842', 'P0099942']\n",
            "----------------------------------------------------------------------\n",
            "Unique Values in Gender column are :-\n",
            "['F', 'M', NaN]\n",
            "Categories (2, object): ['F', 'M']\n",
            "----------------------------------------------------------------------\n",
            "Unique Values in Age column are :-\n",
            "['0-17', '55+', '26-35', '46-50', '51-55', '36-45', '18-25', NaN]\n",
            "Categories (7, object): ['0-17', '18-25', '26-35', '36-45', '46-50', '51-55', '55+']\n",
            "----------------------------------------------------------------------\n",
            "Unique Values in Occupation column are :-\n",
            "[10.0, 16.0, 15.0, 7.0, 20.0, ..., 5.0, 14.0, 13.0, 6.0, NaN]\n",
            "Length: 22\n",
            "Categories (21, float64): [0.0, 1.0, 2.0, 3.0, ..., 17.0, 18.0, 19.0, 20.0]\n",
            "----------------------------------------------------------------------\n",
            "Unique Values in City_Category column are :-\n",
            "['A', 'C', 'B', NaN]\n",
            "Categories (3, object): ['A', 'B', 'C']\n",
            "----------------------------------------------------------------------\n",
            "Unique Values in Stay_In_Current_City_Years column are :-\n",
            "['2', '4+', '3', '1', '0', NaN]\n",
            "Categories (5, object): ['0', '1', '2', '3', '4+']\n",
            "----------------------------------------------------------------------\n",
            "Unique Values in Marital_Status column are :-\n",
            "[0.0, 1.0, NaN]\n",
            "Categories (2, float64): [0.0, 1.0]\n",
            "----------------------------------------------------------------------\n",
            "Unique Values in Product_Category column are :-\n",
            "[3.0, 1.0, 12.0, 8.0, 5.0, ..., 18.0, 10.0, 17.0, 9.0, NaN]\n",
            "Length: 19\n",
            "Categories (18, float64): [1.0, 2.0, 3.0, 4.0, ..., 15.0, 16.0, 17.0, 18.0]\n",
            "----------------------------------------------------------------------\n",
            "Unique Values in Purchase column are :-\n",
            "[ 8370. 15200.  1422. ...  3606.  1433.    nan]\n",
            "----------------------------------------------------------------------\n"
          ]
        }
      ]
    },
    {
      "cell_type": "markdown",
      "source": [
        "*Insights*\n",
        "\n",
        "The dataset does not contain any abnormal values.\n",
        "\n",
        "We will convert the 0,1 in Marital Status column as married and unmarried"
      ],
      "metadata": {
        "id": "hgXoc68YA7mq"
      }
    },
    {
      "cell_type": "code",
      "source": [
        "#replacing the values in marital_status column\n",
        "\n",
        "df['Marital_Status'] = df['Marital_Status'].replace({0:'Unmarried',1:'Married'})\n",
        "df['Marital_Status'].unique()"
      ],
      "metadata": {
        "colab": {
          "base_uri": "https://localhost:8080/"
        },
        "id": "5W99xkAJBbvX",
        "outputId": "c182915f-da68-4835-9fc1-b0113ec94075"
      },
      "execution_count": 13,
      "outputs": [
        {
          "output_type": "execute_result",
          "data": {
            "text/plain": [
              "['Unmarried', 'Married', NaN]\n",
              "Categories (2, object): ['Unmarried', 'Married']"
            ]
          },
          "metadata": {},
          "execution_count": 13
        }
      ]
    },
    {
      "cell_type": "markdown",
      "source": [
        "**Missing Value Analysis**"
      ],
      "metadata": {
        "id": "URuOz4iVBnJ4"
      }
    },
    {
      "cell_type": "code",
      "source": [
        "df.isnull().sum()"
      ],
      "metadata": {
        "colab": {
          "base_uri": "https://localhost:8080/",
          "height": 397
        },
        "id": "cf78oU1BBiE7",
        "outputId": "4e8494a0-b606-4fea-f43a-4923f7125d8e"
      },
      "execution_count": 14,
      "outputs": [
        {
          "output_type": "execute_result",
          "data": {
            "text/plain": [
              "User_ID                       0\n",
              "Product_ID                    0\n",
              "Gender                        1\n",
              "Age                           1\n",
              "Occupation                    1\n",
              "City_Category                 1\n",
              "Stay_In_Current_City_Years    1\n",
              "Marital_Status                1\n",
              "Product_Category              1\n",
              "Purchase                      1\n",
              "dtype: int64"
            ],
            "text/html": [
              "<div>\n",
              "<style scoped>\n",
              "    .dataframe tbody tr th:only-of-type {\n",
              "        vertical-align: middle;\n",
              "    }\n",
              "\n",
              "    .dataframe tbody tr th {\n",
              "        vertical-align: top;\n",
              "    }\n",
              "\n",
              "    .dataframe thead th {\n",
              "        text-align: right;\n",
              "    }\n",
              "</style>\n",
              "<table border=\"1\" class=\"dataframe\">\n",
              "  <thead>\n",
              "    <tr style=\"text-align: right;\">\n",
              "      <th></th>\n",
              "      <th>0</th>\n",
              "    </tr>\n",
              "  </thead>\n",
              "  <tbody>\n",
              "    <tr>\n",
              "      <th>User_ID</th>\n",
              "      <td>0</td>\n",
              "    </tr>\n",
              "    <tr>\n",
              "      <th>Product_ID</th>\n",
              "      <td>0</td>\n",
              "    </tr>\n",
              "    <tr>\n",
              "      <th>Gender</th>\n",
              "      <td>1</td>\n",
              "    </tr>\n",
              "    <tr>\n",
              "      <th>Age</th>\n",
              "      <td>1</td>\n",
              "    </tr>\n",
              "    <tr>\n",
              "      <th>Occupation</th>\n",
              "      <td>1</td>\n",
              "    </tr>\n",
              "    <tr>\n",
              "      <th>City_Category</th>\n",
              "      <td>1</td>\n",
              "    </tr>\n",
              "    <tr>\n",
              "      <th>Stay_In_Current_City_Years</th>\n",
              "      <td>1</td>\n",
              "    </tr>\n",
              "    <tr>\n",
              "      <th>Marital_Status</th>\n",
              "      <td>1</td>\n",
              "    </tr>\n",
              "    <tr>\n",
              "      <th>Product_Category</th>\n",
              "      <td>1</td>\n",
              "    </tr>\n",
              "    <tr>\n",
              "      <th>Purchase</th>\n",
              "      <td>1</td>\n",
              "    </tr>\n",
              "  </tbody>\n",
              "</table>\n",
              "</div><br><label><b>dtype:</b> int64</label>"
            ]
          },
          "metadata": {},
          "execution_count": 14
        }
      ]
    },
    {
      "cell_type": "markdown",
      "source": [
        "*Insights*\n",
        "\n",
        "The dataset does not contain any missing values."
      ],
      "metadata": {
        "id": "SXN4Pd-mBvyp"
      }
    },
    {
      "cell_type": "markdown",
      "source": [
        "# **3.Univariate Analysis**"
      ],
      "metadata": {
        "id": "VKUIzuNpB2n-"
      }
    },
    {
      "cell_type": "markdown",
      "source": [
        "*Purchase Amount*"
      ],
      "metadata": {
        "id": "MSmWlVMYCIem"
      }
    },
    {
      "cell_type": "code",
      "source": [
        "sns.boxplot(data=df, y='Purchase', orient='h')\n",
        "plt.title(\"Purchase amount Distribution across users\")\n",
        "plt.show()"
      ],
      "metadata": {
        "colab": {
          "base_uri": "https://localhost:8080/",
          "height": 433
        },
        "id": "j4AsuFJfBs-7",
        "outputId": "f131868a-b59f-47e1-910c-df953d3fcbaa"
      },
      "execution_count": 16,
      "outputs": [
        {
          "output_type": "display_data",
          "data": {
            "text/plain": [
              "<Figure size 640x480 with 1 Axes>"
            ],
            "image/png": "[encoded data removed]"
          },
          "metadata": {}
        }
      ]
    },
    {
      "cell_type": "markdown",
      "source": [
        "Observations: From the above box plot, we can see the purchase amount has outliers"
      ],
      "metadata": {
        "id": "IU-_Y_3uK8IF"
      }
    },
    {
      "cell_type": "code",
      "source": [
        "#distribution of Gender\n",
        "df[\"Gender\"].value_counts(normalize=True)"
      ],
      "metadata": {
        "id": "c7Q0o5mPDZiu",
        "colab": {
          "base_uri": "https://localhost:8080/",
          "height": 178
        },
        "outputId": "a7808b17-3fc0-4577-ff97-8ecbb1e53312"
      },
      "execution_count": 17,
      "outputs": [
        {
          "output_type": "execute_result",
          "data": {
            "text/plain": [
              "Gender\n",
              "M    0.764459\n",
              "F    0.235541\n",
              "Name: proportion, dtype: float64"
            ],
            "text/html": [
              "<div>\n",
              "<style scoped>\n",
              "    .dataframe tbody tr th:only-of-type {\n",
              "        vertical-align: middle;\n",
              "    }\n",
              "\n",
              "    .dataframe tbody tr th {\n",
              "        vertical-align: top;\n",
              "    }\n",
              "\n",
              "    .dataframe thead th {\n",
              "        text-align: right;\n",
              "    }\n",
              "</style>\n",
              "<table border=\"1\" class=\"dataframe\">\n",
              "  <thead>\n",
              "    <tr style=\"text-align: right;\">\n",
              "      <th></th>\n",
              "      <th>proportion</th>\n",
              "    </tr>\n",
              "    <tr>\n",
              "      <th>Gender</th>\n",
              "      <th></th>\n",
              "    </tr>\n",
              "  </thead>\n",
              "  <tbody>\n",
              "    <tr>\n",
              "      <th>M</th>\n",
              "      <td>0.764459</td>\n",
              "    </tr>\n",
              "    <tr>\n",
              "      <th>F</th>\n",
              "      <td>0.235541</td>\n",
              "    </tr>\n",
              "  </tbody>\n",
              "</table>\n",
              "</div><br><label><b>dtype:</b> float64</label>"
            ]
          },
          "metadata": {},
          "execution_count": 17
        }
      ]
    },
    {
      "cell_type": "markdown",
      "source": [
        "\n",
        "observations: given data set has higher male users."
      ],
      "metadata": {
        "id": "enNt11hELTWL"
      }
    },
    {
      "cell_type": "code",
      "source": [
        "#distribution of Age\n",
        "df[\"Age\"].value_counts(normalize=True)"
      ],
      "metadata": {
        "colab": {
          "base_uri": "https://localhost:8080/",
          "height": 335
        },
        "id": "350rUv5iLRJn",
        "outputId": "605a4849-a289-430d-d7e5-b8936b057998"
      },
      "execution_count": 19,
      "outputs": [
        {
          "output_type": "execute_result",
          "data": {
            "text/plain": [
              "Age\n",
              "26-35    0.392475\n",
              "18-25    0.203707\n",
              "36-45    0.193282\n",
              "46-50    0.073654\n",
              "51-55    0.069420\n",
              "55+      0.039543\n",
              "0-17     0.027920\n",
              "Name: proportion, dtype: float64"
            ],
            "text/html": [
              "<div>\n",
              "<style scoped>\n",
              "    .dataframe tbody tr th:only-of-type {\n",
              "        vertical-align: middle;\n",
              "    }\n",
              "\n",
              "    .dataframe tbody tr th {\n",
              "        vertical-align: top;\n",
              "    }\n",
              "\n",
              "    .dataframe thead th {\n",
              "        text-align: right;\n",
              "    }\n",
              "</style>\n",
              "<table border=\"1\" class=\"dataframe\">\n",
              "  <thead>\n",
              "    <tr style=\"text-align: right;\">\n",
              "      <th></th>\n",
              "      <th>proportion</th>\n",
              "    </tr>\n",
              "    <tr>\n",
              "      <th>Age</th>\n",
              "      <th></th>\n",
              "    </tr>\n",
              "  </thead>\n",
              "  <tbody>\n",
              "    <tr>\n",
              "      <th>26-35</th>\n",
              "      <td>0.392475</td>\n",
              "    </tr>\n",
              "    <tr>\n",
              "      <th>18-25</th>\n",
              "      <td>0.203707</td>\n",
              "    </tr>\n",
              "    <tr>\n",
              "      <th>36-45</th>\n",
              "      <td>0.193282</td>\n",
              "    </tr>\n",
              "    <tr>\n",
              "      <th>46-50</th>\n",
              "      <td>0.073654</td>\n",
              "    </tr>\n",
              "    <tr>\n",
              "      <th>51-55</th>\n",
              "      <td>0.069420</td>\n",
              "    </tr>\n",
              "    <tr>\n",
              "      <th>55+</th>\n",
              "      <td>0.039543</td>\n",
              "    </tr>\n",
              "    <tr>\n",
              "      <th>0-17</th>\n",
              "      <td>0.027920</td>\n",
              "    </tr>\n",
              "  </tbody>\n",
              "</table>\n",
              "</div><br><label><b>dtype:</b> float64</label>"
            ]
          },
          "metadata": {},
          "execution_count": 19
        }
      ]
    },
    {
      "cell_type": "markdown",
      "source": [
        "Observation: 26-35 year age group has higher contribution in the users"
      ],
      "metadata": {
        "id": "uPLhMxACLare"
      }
    },
    {
      "cell_type": "code",
      "source": [
        "#distribution of City_Category\n",
        "df[\"City_Category\"].value_counts(normalize=True)"
      ],
      "metadata": {
        "colab": {
          "base_uri": "https://localhost:8080/",
          "height": 209
        },
        "id": "MQFQHEL-LV0d",
        "outputId": "f7542602-70f9-488f-e8d2-ad8217c3ef30"
      },
      "execution_count": 20,
      "outputs": [
        {
          "output_type": "execute_result",
          "data": {
            "text/plain": [
              "City_Category\n",
              "B    0.423750\n",
              "C    0.297851\n",
              "A    0.278399\n",
              "Name: proportion, dtype: float64"
            ],
            "text/html": [
              "<div>\n",
              "<style scoped>\n",
              "    .dataframe tbody tr th:only-of-type {\n",
              "        vertical-align: middle;\n",
              "    }\n",
              "\n",
              "    .dataframe tbody tr th {\n",
              "        vertical-align: top;\n",
              "    }\n",
              "\n",
              "    .dataframe thead th {\n",
              "        text-align: right;\n",
              "    }\n",
              "</style>\n",
              "<table border=\"1\" class=\"dataframe\">\n",
              "  <thead>\n",
              "    <tr style=\"text-align: right;\">\n",
              "      <th></th>\n",
              "      <th>proportion</th>\n",
              "    </tr>\n",
              "    <tr>\n",
              "      <th>City_Category</th>\n",
              "      <th></th>\n",
              "    </tr>\n",
              "  </thead>\n",
              "  <tbody>\n",
              "    <tr>\n",
              "      <th>B</th>\n",
              "      <td>0.423750</td>\n",
              "    </tr>\n",
              "    <tr>\n",
              "      <th>C</th>\n",
              "      <td>0.297851</td>\n",
              "    </tr>\n",
              "    <tr>\n",
              "      <th>A</th>\n",
              "      <td>0.278399</td>\n",
              "    </tr>\n",
              "  </tbody>\n",
              "</table>\n",
              "</div><br><label><b>dtype:</b> float64</label>"
            ]
          },
          "metadata": {},
          "execution_count": 20
        }
      ]
    },
    {
      "cell_type": "markdown",
      "source": [
        "Observations: City category B has higher users."
      ],
      "metadata": {
        "id": "viaCLzTELht6"
      }
    },
    {
      "cell_type": "code",
      "source": [
        "#distribution of Marital_Status\n",
        "df[\"Marital_Status\"].value_counts(normalize=True)"
      ],
      "metadata": {
        "colab": {
          "base_uri": "https://localhost:8080/",
          "height": 178
        },
        "id": "tFC2Z3_ILe0x",
        "outputId": "dca37ca3-b377-4320-9ab8-34d9351b0ed1"
      },
      "execution_count": 21,
      "outputs": [
        {
          "output_type": "execute_result",
          "data": {
            "text/plain": [
              "Marital_Status\n",
              "Unmarried    0.600455\n",
              "Married      0.399545\n",
              "Name: proportion, dtype: float64"
            ],
            "text/html": [
              "<div>\n",
              "<style scoped>\n",
              "    .dataframe tbody tr th:only-of-type {\n",
              "        vertical-align: middle;\n",
              "    }\n",
              "\n",
              "    .dataframe tbody tr th {\n",
              "        vertical-align: top;\n",
              "    }\n",
              "\n",
              "    .dataframe thead th {\n",
              "        text-align: right;\n",
              "    }\n",
              "</style>\n",
              "<table border=\"1\" class=\"dataframe\">\n",
              "  <thead>\n",
              "    <tr style=\"text-align: right;\">\n",
              "      <th></th>\n",
              "      <th>proportion</th>\n",
              "    </tr>\n",
              "    <tr>\n",
              "      <th>Marital_Status</th>\n",
              "      <th></th>\n",
              "    </tr>\n",
              "  </thead>\n",
              "  <tbody>\n",
              "    <tr>\n",
              "      <th>Unmarried</th>\n",
              "      <td>0.600455</td>\n",
              "    </tr>\n",
              "    <tr>\n",
              "      <th>Married</th>\n",
              "      <td>0.399545</td>\n",
              "    </tr>\n",
              "  </tbody>\n",
              "</table>\n",
              "</div><br><label><b>dtype:</b> float64</label>"
            ]
          },
          "metadata": {},
          "execution_count": 21
        }
      ]
    },
    {
      "cell_type": "markdown",
      "source": [
        "Observation: unmarried users are more as compared to married users"
      ],
      "metadata": {
        "id": "hApm1gnGLs8E"
      }
    },
    {
      "cell_type": "code",
      "source": [
        "#distribution of Product_Category\n",
        "df[\"Product_Category\"].value_counts(normalize=True)"
      ],
      "metadata": {
        "colab": {
          "base_uri": "https://localhost:8080/",
          "height": 680
        },
        "id": "FhNUDeGILqvD",
        "outputId": "902af155-edd5-4af6-c345-7750182c3227"
      },
      "execution_count": 22,
      "outputs": [
        {
          "output_type": "execute_result",
          "data": {
            "text/plain": [
              "Product_Category\n",
              "5.0     0.280915\n",
              "1.0     0.253355\n",
              "8.0     0.211216\n",
              "11.0    0.046932\n",
              "2.0     0.042499\n",
              "3.0     0.037266\n",
              "6.0     0.037147\n",
              "4.0     0.020930\n",
              "16.0    0.016856\n",
              "15.0    0.010984\n",
              "13.0    0.009546\n",
              "10.0    0.009187\n",
              "12.0    0.007349\n",
              "7.0     0.006351\n",
              "18.0    0.004913\n",
              "14.0    0.002836\n",
              "17.0    0.001078\n",
              "9.0     0.000639\n",
              "Name: proportion, dtype: float64"
            ],
            "text/html": [
              "<div>\n",
              "<style scoped>\n",
              "    .dataframe tbody tr th:only-of-type {\n",
              "        vertical-align: middle;\n",
              "    }\n",
              "\n",
              "    .dataframe tbody tr th {\n",
              "        vertical-align: top;\n",
              "    }\n",
              "\n",
              "    .dataframe thead th {\n",
              "        text-align: right;\n",
              "    }\n",
              "</style>\n",
              "<table border=\"1\" class=\"dataframe\">\n",
              "  <thead>\n",
              "    <tr style=\"text-align: right;\">\n",
              "      <th></th>\n",
              "      <th>proportion</th>\n",
              "    </tr>\n",
              "    <tr>\n",
              "      <th>Product_Category</th>\n",
              "      <th></th>\n",
              "    </tr>\n",
              "  </thead>\n",
              "  <tbody>\n",
              "    <tr>\n",
              "      <th>5.0</th>\n",
              "      <td>0.280915</td>\n",
              "    </tr>\n",
              "    <tr>\n",
              "      <th>1.0</th>\n",
              "      <td>0.253355</td>\n",
              "    </tr>\n",
              "    <tr>\n",
              "      <th>8.0</th>\n",
              "      <td>0.211216</td>\n",
              "    </tr>\n",
              "    <tr>\n",
              "      <th>11.0</th>\n",
              "      <td>0.046932</td>\n",
              "    </tr>\n",
              "    <tr>\n",
              "      <th>2.0</th>\n",
              "      <td>0.042499</td>\n",
              "    </tr>\n",
              "    <tr>\n",
              "      <th>3.0</th>\n",
              "      <td>0.037266</td>\n",
              "    </tr>\n",
              "    <tr>\n",
              "      <th>6.0</th>\n",
              "      <td>0.037147</td>\n",
              "    </tr>\n",
              "    <tr>\n",
              "      <th>4.0</th>\n",
              "      <td>0.020930</td>\n",
              "    </tr>\n",
              "    <tr>\n",
              "      <th>16.0</th>\n",
              "      <td>0.016856</td>\n",
              "    </tr>\n",
              "    <tr>\n",
              "      <th>15.0</th>\n",
              "      <td>0.010984</td>\n",
              "    </tr>\n",
              "    <tr>\n",
              "      <th>13.0</th>\n",
              "      <td>0.009546</td>\n",
              "    </tr>\n",
              "    <tr>\n",
              "      <th>10.0</th>\n",
              "      <td>0.009187</td>\n",
              "    </tr>\n",
              "    <tr>\n",
              "      <th>12.0</th>\n",
              "      <td>0.007349</td>\n",
              "    </tr>\n",
              "    <tr>\n",
              "      <th>7.0</th>\n",
              "      <td>0.006351</td>\n",
              "    </tr>\n",
              "    <tr>\n",
              "      <th>18.0</th>\n",
              "      <td>0.004913</td>\n",
              "    </tr>\n",
              "    <tr>\n",
              "      <th>14.0</th>\n",
              "      <td>0.002836</td>\n",
              "    </tr>\n",
              "    <tr>\n",
              "      <th>17.0</th>\n",
              "      <td>0.001078</td>\n",
              "    </tr>\n",
              "    <tr>\n",
              "      <th>9.0</th>\n",
              "      <td>0.000639</td>\n",
              "    </tr>\n",
              "  </tbody>\n",
              "</table>\n",
              "</div><br><label><b>dtype:</b> float64</label>"
            ]
          },
          "metadata": {},
          "execution_count": 22
        }
      ]
    },
    {
      "cell_type": "markdown",
      "source": [
        "Observations: product category 5 has higher contributions"
      ],
      "metadata": {
        "id": "sGLWYqB8L0c2"
      }
    },
    {
      "cell_type": "code",
      "source": [
        "#mapping univariate plots for differnt metrics to see their distribution in the data\n",
        "figure, axis = plt.subplots(nrows=4, ncols=2, figsize=(20, 16))\n",
        "sns.countplot(data=df, x='Gender', ax=axis[0,0])\n",
        "sns.countplot(data=df, x='Marital_Status', ax=axis[0,1])\n",
        "sns.countplot(data=df, x='Occupation', ax=axis[1,0])\n",
        "sns.countplot(data=df, x='City_Category', ax=axis[1,1])\n",
        "sns.countplot(data=df, x='Product_Category', ax=axis[2,0])\n",
        "sns.countplot(data=df, x='Age', ax=axis[2,1])\n",
        "sns.countplot(data=df, x='Stay_In_Current_City_Years', ax=axis[3,0])\n",
        "plt.show()"
      ],
      "metadata": {
        "colab": {
          "base_uri": "https://localhost:8080/",
          "height": 1000
        },
        "id": "SvCfD1MuLw9Y",
        "outputId": "a0496eca-7174-48b7-ea6e-6bb1022a1992"
      },
      "execution_count": 23,
      "outputs": [
        {
          "output_type": "display_data",
          "data": {
            "text/plain": [
              "<Figure size 2000x1600 with 8 Axes>"
            ],
            "image/png": "[encoded data removed]"
          },
          "metadata": {}
        }
      ]
    },
    {
      "cell_type": "markdown",
      "source": [
        "Observations: From the above chart we can clearly see more users are Single as compare to Married, users with 1 year stay in current city are higher."
      ],
      "metadata": {
        "id": "w7z9z9bCMFVL"
      }
    },
    {
      "cell_type": "markdown",
      "source": [
        "# Bivariate and Multivariate Analysis"
      ],
      "metadata": {
        "id": "dczJ4HX1MbQ-"
      }
    },
    {
      "cell_type": "code",
      "source": [
        "#Bi-variate Analysis for Purchase vs Genders\n",
        "sns.boxplot(data=df, y='Purchase', x='Gender')"
      ],
      "metadata": {
        "colab": {
          "base_uri": "https://localhost:8080/",
          "height": 470
        },
        "id": "KrlM8v7zMCqL",
        "outputId": "e0fd81cf-482c-4a91-a7b6-a045ea8560c5"
      },
      "execution_count": 25,
      "outputs": [
        {
          "output_type": "execute_result",
          "data": {
            "text/plain": [
              "<Axes: xlabel='Gender', ylabel='Purchase'>"
            ]
          },
          "metadata": {},
          "execution_count": 25
        },
        {
          "output_type": "display_data",
          "data": {
            "text/plain": [
              "<Figure size 640x480 with 1 Axes>"
            ],
            "image/png": "[encoded data removed]"
          },
          "metadata": {}
        }
      ]
    },
    {
      "cell_type": "markdown",
      "source": [
        "Observation: From the above plot we can clearly infer, male has overall higher purchase amount."
      ],
      "metadata": {
        "id": "hlsVEJkhMybb"
      }
    },
    {
      "cell_type": "code",
      "source": [
        "#Bi-variate Analysis for Purchase vs Genders\n",
        "sns.boxplot(data=df, y='Purchase', x='City_Category')"
      ],
      "metadata": {
        "colab": {
          "base_uri": "https://localhost:8080/",
          "height": 470
        },
        "id": "ecjg1_wpMolY",
        "outputId": "6ab75b4a-0e9f-4071-a797-5c741e5725bd"
      },
      "execution_count": 27,
      "outputs": [
        {
          "output_type": "execute_result",
          "data": {
            "text/plain": [
              "<Axes: xlabel='City_Category', ylabel='Purchase'>"
            ]
          },
          "metadata": {},
          "execution_count": 27
        },
        {
          "output_type": "display_data",
          "data": {
            "text/plain": [
              "<Figure size 640x480 with 1 Axes>"
            ],
            "image/png": "[encoded data removed]"
          },
          "metadata": {}
        }
      ]
    },
    {
      "cell_type": "markdown",
      "source": [
        "Observation: From the above plot we can clearly infer, city category \"C\" has overall higher purchase amount."
      ],
      "metadata": {
        "id": "oEwqIYFEM50E"
      }
    },
    {
      "cell_type": "code",
      "source": [
        "#correlation between Purchase, Gender and City_Category\n",
        "plt.figure(figsize=(8, 6))\n",
        "sns.boxplot(data=df, y='Purchase', x='Gender', hue='City_Category', palette='Set3')"
      ],
      "metadata": {
        "colab": {
          "base_uri": "https://localhost:8080/",
          "height": 562
        },
        "id": "4t1kgHZ_M1Fe",
        "outputId": "9971e181-6146-483d-fad2-8ef5a8a7566f"
      },
      "execution_count": 28,
      "outputs": [
        {
          "output_type": "execute_result",
          "data": {
            "text/plain": [
              "<Axes: xlabel='Gender', ylabel='Purchase'>"
            ]
          },
          "metadata": {},
          "execution_count": 28
        },
        {
          "output_type": "display_data",
          "data": {
            "text/plain": [
              "<Figure size 800x600 with 1 Axes>"
            ],
            "image/png": "[encoded data removed]"
          },
          "metadata": {}
        }
      ]
    },
    {
      "cell_type": "markdown",
      "source": [
        "Observations: For both male and female users City Category \"C\" has highest purchase value.\n"
      ],
      "metadata": {
        "id": "Ay5V_1MRNC0G"
      }
    },
    {
      "cell_type": "code",
      "source": [
        "#correlation between Purchase, Gender and Age\n",
        "plt.figure(figsize=(12, 8))\n",
        "sns.boxplot(data=df, y='Purchase', x='Gender', hue='Age', palette='Set3')"
      ],
      "metadata": {
        "colab": {
          "base_uri": "https://localhost:8080/",
          "height": 715
        },
        "id": "M9syRGMPM-M3",
        "outputId": "fee11659-ecd3-43a2-e5e1-50a9ea920cf7"
      },
      "execution_count": 29,
      "outputs": [
        {
          "output_type": "execute_result",
          "data": {
            "text/plain": [
              "<Axes: xlabel='Gender', ylabel='Purchase'>"
            ]
          },
          "metadata": {},
          "execution_count": 29
        },
        {
          "output_type": "display_data",
          "data": {
            "text/plain": [
              "<Figure size 1200x800 with 1 Axes>"
            ],
            "image/png": "[encoded data removed]"
          },
          "metadata": {}
        }
      ]
    },
    {
      "cell_type": "markdown",
      "source": [
        "Observations: For male users 51-55 years age group has higher puchase value and for female users 36-45 years age group has highest purchase value"
      ],
      "metadata": {
        "id": "sVff83ZRNKpz"
      }
    },
    {
      "cell_type": "code",
      "source": [
        "cols = ['Occupation', 'Marital_Status', 'Product_Category']\n",
        "df[cols] = df[cols].astype('object')"
      ],
      "metadata": {
        "id": "cTGkwS8hNHb-"
      },
      "execution_count": 30,
      "outputs": []
    },
    {
      "cell_type": "code",
      "source": [
        "# Identify columns with 'category' dtype and convert them to 'object'\n",
        "for col in df.select_dtypes(include='category').columns:\n",
        "    df[col] = df[col].astype('object')\n",
        "\n"
      ],
      "metadata": {
        "id": "9LFl3YQVNWyb"
      },
      "execution_count": 36,
      "outputs": []
    },
    {
      "cell_type": "markdown",
      "source": [
        "Purchase trend across Gender"
      ],
      "metadata": {
        "id": "-W3g9C7WQT_4"
      }
    },
    {
      "cell_type": "code",
      "source": [
        "#unique users distribution across Gender\n",
        "amt_df = df.groupby(['User_ID', 'Gender'])[['Purchase']].sum()\n",
        "amt_df = amt_df.reset_index()\n",
        "amt_df['Gender'].value_counts()"
      ],
      "metadata": {
        "colab": {
          "base_uri": "https://localhost:8080/",
          "height": 178
        },
        "id": "-AhpEzhtNbyC",
        "outputId": "68cc8078-c1f6-4a5f-b2d0-e35506a418d2"
      },
      "execution_count": 41,
      "outputs": [
        {
          "output_type": "execute_result",
          "data": {
            "text/plain": [
              "Gender\n",
              "M    2482\n",
              "F     906\n",
              "Name: count, dtype: int64"
            ],
            "text/html": [
              "<div>\n",
              "<style scoped>\n",
              "    .dataframe tbody tr th:only-of-type {\n",
              "        vertical-align: middle;\n",
              "    }\n",
              "\n",
              "    .dataframe tbody tr th {\n",
              "        vertical-align: top;\n",
              "    }\n",
              "\n",
              "    .dataframe thead th {\n",
              "        text-align: right;\n",
              "    }\n",
              "</style>\n",
              "<table border=\"1\" class=\"dataframe\">\n",
              "  <thead>\n",
              "    <tr style=\"text-align: right;\">\n",
              "      <th></th>\n",
              "      <th>count</th>\n",
              "    </tr>\n",
              "    <tr>\n",
              "      <th>Gender</th>\n",
              "      <th></th>\n",
              "    </tr>\n",
              "  </thead>\n",
              "  <tbody>\n",
              "    <tr>\n",
              "      <th>M</th>\n",
              "      <td>2482</td>\n",
              "    </tr>\n",
              "    <tr>\n",
              "      <th>F</th>\n",
              "      <td>906</td>\n",
              "    </tr>\n",
              "  </tbody>\n",
              "</table>\n",
              "</div><br><label><b>dtype:</b> int64</label>"
            ]
          },
          "metadata": {},
          "execution_count": 41
        }
      ]
    },
    {
      "cell_type": "code",
      "source": [
        "#population average of purchase amount for male users\n",
        "male_avg = amt_df[amt_df['Gender']=='M']['Purchase'].mean().round(2)\n",
        "male_avg"
      ],
      "metadata": {
        "colab": {
          "base_uri": "https://localhost:8080/"
        },
        "id": "FQnbX4fWOxvp",
        "outputId": "963420e2-5bd0-4824-c303-4f0d91cd3a49"
      },
      "execution_count": 42,
      "outputs": [
        {
          "output_type": "execute_result",
          "data": {
            "text/plain": [
              "72471.24"
            ]
          },
          "metadata": {},
          "execution_count": 42
        }
      ]
    },
    {
      "cell_type": "code",
      "source": [
        "#population average of purchase amount for Female users\n",
        "female_avg = amt_df[amt_df['Gender']=='F']['Purchase'].mean().round(2)\n",
        "female_avg"
      ],
      "metadata": {
        "colab": {
          "base_uri": "https://localhost:8080/"
        },
        "id": "uTY9xbvyQnYj",
        "outputId": "bc520cd0-9ae1-4b55-d26a-8f1e111fd74a"
      },
      "execution_count": 43,
      "outputs": [
        {
          "output_type": "execute_result",
          "data": {
            "text/plain": [
              "56823.99"
            ]
          },
          "metadata": {},
          "execution_count": 43
        }
      ]
    },
    {
      "cell_type": "markdown",
      "source": [
        "Observations: Male users spend more money than female users."
      ],
      "metadata": {
        "id": "NnZZDuXLQu7L"
      }
    },
    {
      "cell_type": "code",
      "source": [
        "male_df = amt_df[amt_df['Gender']=='M']\n",
        "female_df = amt_df[amt_df['Gender']=='F']"
      ],
      "metadata": {
        "id": "svA2_eozQsA5"
      },
      "execution_count": 44,
      "outputs": []
    },
    {
      "cell_type": "code",
      "source": [
        "# Taking a sample size of 3000 for male and 1500 for female users and simulating it for 1000 times\n",
        "male_sample_size = 3000\n",
        "female_sample_size = 1500\n",
        "num_repitions = 1000\n",
        "male_means = []\n",
        "female_means = []\n",
        "\n",
        "for _ in range(num_repitions):\n",
        "  male_mean = male_df.sample(male_sample_size, replace=True)['Purchase'].mean()\n",
        "  female_mean = female_df.sample(female_sample_size, replace=True)['Purchase'].mean()\n",
        "  male_means.append(male_mean)\n",
        "  female_means.append(female_mean)\n",
        "print(\"Sample means of amount spend for Male in a sample size of 3000: {:.2f}\".format(np.mean(male_means)))\n",
        "print(\"Sample means of amount spend for Female in a sample size of 1500: {:.2f}\".format(np.mean(female_means)))\n",
        "\n",
        "print(\"Male - Population mean: {:.2f} Population std dev: {:.2f}\".format(male_df['Purchase'].mean(), male_df['Purchase'].std()))\n",
        "print(\"Female - Population mean: {:.2f} Population std dev: {:.2f}\".format(female_df['Purchase'].mean(), female_df['Purchase'].std()))"
      ],
      "metadata": {
        "colab": {
          "base_uri": "https://localhost:8080/"
        },
        "id": "RY_UfgFkQyE3",
        "outputId": "aca39992-20bf-4704-8442-e3a712435a4d"
      },
      "execution_count": 45,
      "outputs": [
        {
          "output_type": "stream",
          "name": "stdout",
          "text": [
            "Sample means of amount spend for Male in a sample size of 3000: 72456.46\n",
            "Sample means of amount spend for Female in a sample size of 1500: 56903.15\n",
            "Male - Population mean: 72471.24 Population std dev: 77679.49\n",
            "Female - Population mean: 56823.99 Population std dev: 65526.13\n"
          ]
        }
      ]
    },
    {
      "cell_type": "code",
      "source": [
        "#Distribution of samples\n",
        "fig, axis = plt.subplots(nrows=1, ncols=2, figsize=(20, 6))\n",
        "\n",
        "axis[0].hist(male_means, bins=50)\n",
        "axis[0].set_title(\"Male - Distribution of means, Sample size: 3000\")\n",
        "axis[1].hist(female_means, bins=50)\n",
        "axis[1].set_title(\"Female - Distribution of means, Sample size: 1500\")\n",
        "plt.show()"
      ],
      "metadata": {
        "colab": {
          "base_uri": "https://localhost:8080/",
          "height": 484
        },
        "id": "Vq9zRjlbQ9N_",
        "outputId": "1728fffd-3651-4cfd-9278-0069fbd10d39"
      },
      "execution_count": 46,
      "outputs": [
        {
          "output_type": "display_data",
          "data": {
            "text/plain": [
              "<Figure size 2000x600 with 2 Axes>"
            ],
            "image/png": "[encoded data removed]"
          },
          "metadata": {}
        }
      ]
    },
    {
      "cell_type": "markdown",
      "source": [
        "Observation: From CLT, we can infer for the sample population that:\n",
        "\n",
        "*   Average amount spend by male customers is 72456.46\n",
        "*   Average amount spend by female customers is 56903.15\n",
        "\n",
        "\n",
        "\n",
        "\n",
        "\n",
        "\n",
        "\n",
        "\n",
        "\n"
      ],
      "metadata": {
        "id": "Z-E5P8PvRGR7"
      }
    },
    {
      "cell_type": "code",
      "source": [
        "#range for 95% Confidence Interval for male users\n",
        "male_margin_of_error_clt = 1.96*male_df['Purchase'].std()/np.sqrt(len(male_df))\n",
        "male_sample_mean = male_df['Purchase'].mean()\n",
        "male_lower_lim = male_sample_mean - male_margin_of_error_clt\n",
        "male_upper_lim = male_sample_mean + male_margin_of_error_clt\n",
        "print(\"Male 95% confidence interval of means: ({:.2f}, {:.2f})\".format(male_lower_lim, male_upper_lim))\n"
      ],
      "metadata": {
        "colab": {
          "base_uri": "https://localhost:8080/"
        },
        "id": "J4KmkNuuRBAt",
        "outputId": "c11fb1c9-3d3b-48e2-cb93-71baa3368829"
      },
      "execution_count": 47,
      "outputs": [
        {
          "output_type": "stream",
          "name": "stdout",
          "text": [
            "Male 95% confidence interval of means: (69415.19, 75527.30)\n"
          ]
        }
      ]
    },
    {
      "cell_type": "code",
      "source": [
        "#range for 95% Confidence Interval for female users\n",
        "female_margin_of_error_clt = 1.96*female_df['Purchase'].std()/np.sqrt(len(female_df))\n",
        "female_sample_mean = female_df['Purchase'].mean()\n",
        "female_lower_lim = female_sample_mean - female_margin_of_error_clt\n",
        "female_upper_lim = female_sample_mean + female_margin_of_error_clt\n",
        "print(\"Female 95% confidence interval of means: ({:.2f}, {:.2f})\".format(female_lower_lim, female_upper_lim))"
      ],
      "metadata": {
        "colab": {
          "base_uri": "https://localhost:8080/"
        },
        "id": "5mcADvB3SJ3i",
        "outputId": "6132d2b2-6d06-428c-b87c-c2dcdc32e087"
      },
      "execution_count": 48,
      "outputs": [
        {
          "output_type": "stream",
          "name": "stdout",
          "text": [
            "Female 95% confidence interval of means: (52557.15, 61090.83)\n"
          ]
        }
      ]
    },
    {
      "cell_type": "markdown",
      "source": [
        "Observations: From above we can infer about the population that, 95% of the times:\n",
        "\n",
        "* Average amount spend by male customer will lie in between: (69415.19, 75527.30)\n",
        "\n",
        "* Average amount spend by female customer will lie in between: (52557.15, 61090.83)\n",
        "\n",
        "We can clearly see that confidence intervals of average male and female spending is not overlapping and average male spending is higher than female."
      ],
      "metadata": {
        "id": "mqBkyDyKRFR9"
      }
    },
    {
      "cell_type": "markdown",
      "source": [
        "***Purchase Trend across Marital_Status***"
      ],
      "metadata": {
        "id": "Cb8QO0xcSmno"
      }
    },
    {
      "cell_type": "code",
      "source": [
        "#unique users distribution across Marital_Status\n",
        "amt_df = df.groupby(['User_ID', 'Marital_Status'])[['Purchase']].sum()\n",
        "amt_df = amt_df.reset_index()\n",
        "amt_df['Marital_Status'].value_counts()"
      ],
      "metadata": {
        "colab": {
          "base_uri": "https://localhost:8080/",
          "height": 178
        },
        "id": "mIfaQ2xbSjbs",
        "outputId": "0f87097f-7b62-4196-f2c2-a93ce86f9504"
      },
      "execution_count": 49,
      "outputs": [
        {
          "output_type": "execute_result",
          "data": {
            "text/plain": [
              "Marital_Status\n",
              "Unmarried    1988\n",
              "Married      1400\n",
              "Name: count, dtype: int64"
            ],
            "text/html": [
              "<div>\n",
              "<style scoped>\n",
              "    .dataframe tbody tr th:only-of-type {\n",
              "        vertical-align: middle;\n",
              "    }\n",
              "\n",
              "    .dataframe tbody tr th {\n",
              "        vertical-align: top;\n",
              "    }\n",
              "\n",
              "    .dataframe thead th {\n",
              "        text-align: right;\n",
              "    }\n",
              "</style>\n",
              "<table border=\"1\" class=\"dataframe\">\n",
              "  <thead>\n",
              "    <tr style=\"text-align: right;\">\n",
              "      <th></th>\n",
              "      <th>count</th>\n",
              "    </tr>\n",
              "    <tr>\n",
              "      <th>Marital_Status</th>\n",
              "      <th></th>\n",
              "    </tr>\n",
              "  </thead>\n",
              "  <tbody>\n",
              "    <tr>\n",
              "      <th>Unmarried</th>\n",
              "      <td>1988</td>\n",
              "    </tr>\n",
              "    <tr>\n",
              "      <th>Married</th>\n",
              "      <td>1400</td>\n",
              "    </tr>\n",
              "  </tbody>\n",
              "</table>\n",
              "</div><br><label><b>dtype:</b> int64</label>"
            ]
          },
          "metadata": {},
          "execution_count": 49
        }
      ]
    },
    {
      "cell_type": "code",
      "source": [
        "# Taking a sample size of 3000 for Married and 2000 for Unmarried users and simulating it for 1000 times\n",
        "\n",
        "marid_samp_size = 3000\n",
        "unmarid_sample_size = 2000\n",
        "num_repitions = 1000\n",
        "marid_means = []\n",
        "unmarid_means = []\n",
        "\n",
        "for _ in range(num_repitions):\n",
        "    marid_mean = amt_df[amt_df['Marital_Status']==\"Married\"].sample(marid_samp_size, replace=True)['Purchase'].mean()\n",
        "    unmarid_mean = amt_df[amt_df['Marital_Status']==\"Unmarried\"].sample(unmarid_sample_size, replace=True)['Purchase'].mean()\n",
        "\n",
        "    marid_means.append(marid_mean)\n",
        "    unmarid_means.append(unmarid_mean)\n",
        "\n",
        "\n",
        "fig, axis = plt.subplots(nrows=1, ncols=2, figsize=(20, 6))\n",
        "\n",
        "axis[0].hist(marid_means, bins=50)\n",
        "axis[0].set_title(\"Married - Distribution of means, Sample size: 3000\")\n",
        "axis[1].hist(unmarid_means, bins=50)\n",
        "axis[1].set_title(\"Unmarried - Distribution of means, Sample size: 2000\")\n",
        "plt.show()"
      ],
      "metadata": {
        "colab": {
          "base_uri": "https://localhost:8080/",
          "height": 484
        },
        "id": "FOb_evw-StTD",
        "outputId": "8199a16c-9e00-4b49-d580-901bff1ced5c"
      },
      "execution_count": 53,
      "outputs": [
        {
          "output_type": "display_data",
          "data": {
            "text/plain": [
              "<Figure size 2000x600 with 2 Axes>"
            ],
            "image/png": "[encoded data removed]"
          },
          "metadata": {}
        }
      ]
    },
    {
      "cell_type": "code",
      "source": [
        "print(\"Sample means of amount spend for Married in a sample size of 3000: {:.2f}\".format(np.mean(marid_means)))\n",
        "print(\"Sample means of amount spend for Unmarried in a sample size of 2000: {:.2f}\".format(np.mean(unmarid_means)))\n",
        "\n",
        "print(\"Married - Population mean: {:.2f} Population std: {:.2f}\".format(amt_df[amt_df['Marital_Status']==\"Married\"]['Purchase'].mean(), amt_df[amt_df['Marital_Status']==\"Married\"]['Purchase'].std()))\n",
        "print(\"Unmarried - Population mean: {:.2f} Population std: {:.2f}\".format(amt_df[amt_df['Marital_Status']==\"Unmarried\"]['Purchase'].mean(), amt_df[amt_df['Marital_Status']==\"Unmarried\"]['Purchase'].std()))"
      ],
      "metadata": {
        "colab": {
          "base_uri": "https://localhost:8080/"
        },
        "id": "IWAEr5W_SzDU",
        "outputId": "47f86369-92fa-4496-834f-1008281f447d"
      },
      "execution_count": 56,
      "outputs": [
        {
          "output_type": "stream",
          "name": "stdout",
          "text": [
            "Sample means of amount spend for Married in a sample size of 3000: 66354.53\n",
            "Sample means of amount spend for Unmarried in a sample size of 2000: 69685.67\n",
            "Married - Population mean: 66360.11 Population std: 75285.08\n",
            "Unmarried - Population mean: 69643.87 Population std: 74676.68\n"
          ]
        }
      ]
    },
    {
      "cell_type": "markdown",
      "source": [
        "Observation: From CLT, we can infer for the sample population that:\n",
        "\n",
        "* Average amount spend by Married customers is 663600.11\n",
        "* Average amount spend by Unmarried customers is 69643.87"
      ],
      "metadata": {
        "id": "gJ3YkGfZUE9A"
      }
    },
    {
      "cell_type": "code",
      "source": [
        "ms_df = df.groupby(['User_ID', 'Marital_Status'])[['Purchase']].sum()\n",
        "ms_df = ms_df.reset_index()"
      ],
      "metadata": {
        "id": "eirHHd9jS9jf"
      },
      "execution_count": 57,
      "outputs": []
    },
    {
      "cell_type": "code",
      "source": [
        "married_df = ms_df[ms_df['Marital_Status']==\"Married\"]\n",
        "unmarried_df = ms_df[ms_df['Marital_Status']==\"Unmarried\"]"
      ],
      "metadata": {
        "id": "3oD7-QWbUd4V"
      },
      "execution_count": 59,
      "outputs": []
    },
    {
      "cell_type": "code",
      "source": [
        "#range for 95% Confidence Interval for Married users\n",
        "married_margin_of_error_clt = 1.96*married_df['Purchase'].std()/np.sqrt(len(married_df))\n",
        "married_sample_mean = married_df['Purchase'].mean()\n",
        "married_lower_lim = married_sample_mean - married_margin_of_error_clt\n",
        "married_upper_lim = married_sample_mean + married_margin_of_error_clt\n",
        "print(\"Married 95% confidence interval of means: ({:.2f}, {:.2f})\".format(married_lower_lim, married_upper_lim))"
      ],
      "metadata": {
        "colab": {
          "base_uri": "https://localhost:8080/"
        },
        "id": "QPmfNzl6YvhH",
        "outputId": "6b1251d2-83cd-443e-852d-432e77a14cba"
      },
      "execution_count": 60,
      "outputs": [
        {
          "output_type": "stream",
          "name": "stdout",
          "text": [
            "Married 95% confidence interval of means: (62416.44, 70303.78)\n"
          ]
        }
      ]
    },
    {
      "cell_type": "code",
      "source": [
        "#range for 95% Confidence Interval for Unmarried users\n",
        "unmarried_margin_of_error_clt = 1.96*unmarried_df['Purchase'].std()/np.sqrt(len(unmarried_df))\n",
        "unmarried_sample_mean = unmarried_df['Purchase'].mean()\n",
        "unmarried_lower_lim = unmarried_sample_mean - unmarried_margin_of_error_clt\n",
        "unmarried_upper_lim = unmarried_sample_mean + unmarried_margin_of_error_clt\n",
        "print(\"Unmarried 95% confidence interval of means: ({:.2f}, {:.2f})\".format(unmarried_lower_lim, unmarried_upper_lim))"
      ],
      "metadata": {
        "colab": {
          "base_uri": "https://localhost:8080/"
        },
        "id": "waDyT2byZQdn",
        "outputId": "01ebe2e7-c74c-42ca-c22e-49ba44623ea3"
      },
      "execution_count": 61,
      "outputs": [
        {
          "output_type": "stream",
          "name": "stdout",
          "text": [
            "Unmarried 95% confidence interval of means: (66361.16, 72926.58)\n"
          ]
        }
      ]
    },
    {
      "cell_type": "markdown",
      "source": [
        "Observations: From above we can infer about the population that, 95% of the times:\n",
        "\n",
        "* Average amount spend by Married customer will lie in between: (62416.44, 70303.78)\n",
        "* Average amount spend by Unmarried customer will lie in between: (66361.16, 72926.58)\n",
        "We can clearly see that confidence intervals of average Married and Unmarried spending is overlapping."
      ],
      "metadata": {
        "id": "C_b6VYIXY6uV"
      }
    },
    {
      "cell_type": "markdown",
      "source": [
        "***Purchase Trend across Age group***"
      ],
      "metadata": {
        "id": "ag-raUWXZifT"
      }
    },
    {
      "cell_type": "code",
      "source": [
        "#unique users distribution across Age group\n",
        "amt_df = df.groupby(['User_ID', 'Age'])[['Purchase']].sum()\n",
        "amt_df = amt_df.reset_index()\n",
        "amt_df['Age'].value_counts()"
      ],
      "metadata": {
        "colab": {
          "base_uri": "https://localhost:8080/",
          "height": 335
        },
        "id": "JZK743noY3Pp",
        "outputId": "d0204f4b-0243-44b8-bae1-035bfc8d29c9"
      },
      "execution_count": 63,
      "outputs": [
        {
          "output_type": "execute_result",
          "data": {
            "text/plain": [
              "Age\n",
              "26-35    1167\n",
              "18-25     673\n",
              "36-45     659\n",
              "46-50     273\n",
              "51-55     272\n",
              "55+       210\n",
              "0-17      134\n",
              "Name: count, dtype: int64"
            ],
            "text/html": [
              "<div>\n",
              "<style scoped>\n",
              "    .dataframe tbody tr th:only-of-type {\n",
              "        vertical-align: middle;\n",
              "    }\n",
              "\n",
              "    .dataframe tbody tr th {\n",
              "        vertical-align: top;\n",
              "    }\n",
              "\n",
              "    .dataframe thead th {\n",
              "        text-align: right;\n",
              "    }\n",
              "</style>\n",
              "<table border=\"1\" class=\"dataframe\">\n",
              "  <thead>\n",
              "    <tr style=\"text-align: right;\">\n",
              "      <th></th>\n",
              "      <th>count</th>\n",
              "    </tr>\n",
              "    <tr>\n",
              "      <th>Age</th>\n",
              "      <th></th>\n",
              "    </tr>\n",
              "  </thead>\n",
              "  <tbody>\n",
              "    <tr>\n",
              "      <th>26-35</th>\n",
              "      <td>1167</td>\n",
              "    </tr>\n",
              "    <tr>\n",
              "      <th>18-25</th>\n",
              "      <td>673</td>\n",
              "    </tr>\n",
              "    <tr>\n",
              "      <th>36-45</th>\n",
              "      <td>659</td>\n",
              "    </tr>\n",
              "    <tr>\n",
              "      <th>46-50</th>\n",
              "      <td>273</td>\n",
              "    </tr>\n",
              "    <tr>\n",
              "      <th>51-55</th>\n",
              "      <td>272</td>\n",
              "    </tr>\n",
              "    <tr>\n",
              "      <th>55+</th>\n",
              "      <td>210</td>\n",
              "    </tr>\n",
              "    <tr>\n",
              "      <th>0-17</th>\n",
              "      <td>134</td>\n",
              "    </tr>\n",
              "  </tbody>\n",
              "</table>\n",
              "</div><br><label><b>dtype:</b> int64</label>"
            ]
          },
          "metadata": {},
          "execution_count": 63
        }
      ]
    },
    {
      "cell_type": "code",
      "source": [
        "# Taking a sample size of 200 for differnt age group and simulating it for 1000 times\n",
        "sample_size = 200\n",
        "num_repitions = 1000\n",
        "\n",
        "all_means = {}\n",
        "\n",
        "age_intervals = ['26-35', '36-45', '18-25', '46-50', '51-55', '55+', '0-17']\n",
        "for age_interval in age_intervals:\n",
        "    all_means[age_interval] = []\n",
        "for age_interval in age_intervals:\n",
        "    for _ in range(num_repitions):\n",
        "      mean = amt_df[amt_df['Age']==age_interval].sample(sample_size, replace=True)['Purchase'].mean()\n",
        "      all_means[age_interval].append(mean)\n",
        "\n",
        "for val in ['26-35', '36-45', '18-25', '46-50', '51-55', '55+', '0-17']:\n",
        "\n",
        "    new_df = amt_df[amt_df['Age']==val]\n",
        "    margin_of_error_clt = 1.96*new_df['Purchase'].std()/np.sqrt(len(new_df))\n",
        "    sample_mean = new_df['Purchase'].mean()\n",
        "    lower_lim = sample_mean - margin_of_error_clt\n",
        "    upper_lim = sample_mean + margin_of_error_clt\n",
        "    print(\"For age {} --> 95% confidence interval of means: ({:.2f}, {:.2f})\".format(val, lower_lim, upper_lim))"
      ],
      "metadata": {
        "colab": {
          "base_uri": "https://localhost:8080/"
        },
        "id": "p7juC6OiZrxH",
        "outputId": "7f82f23b-538b-437e-ab63-046c55ef743a"
      },
      "execution_count": 64,
      "outputs": [
        {
          "output_type": "stream",
          "name": "stdout",
          "text": [
            "For age 26-35 --> 95% confidence interval of means: (73154.36, 82636.55)\n",
            "For age 36-45 --> 95% confidence interval of means: (62376.46, 73571.04)\n",
            "For age 18-25 --> 95% confidence interval of means: (63906.45, 74916.69)\n",
            "For age 46-50 --> 95% confidence interval of means: (53624.03, 71834.29)\n",
            "For age 51-55 --> 95% confidence interval of means: (52984.96, 67899.67)\n",
            "For age 55+ --> 95% confidence interval of means: (36285.54, 50434.07)\n",
            "For age 0-17 --> 95% confidence interval of means: (37695.61, 55924.55)\n"
          ]
        }
      ]
    },
    {
      "cell_type": "markdown",
      "source": [
        "We can clearly see that confidence intervals of average age 26-35 group customer spending is higher than age 36-45 group customers."
      ],
      "metadata": {
        "id": "pOaHHi9PZ9Xa"
      }
    },
    {
      "cell_type": "markdown",
      "source": [
        "**Final Insights:**\n",
        "* 40% users belongs to 26-35 year age group, which is highest among all age group and aprox 80% of users belongs to 18 to 45 years age group.\n",
        "* 42% users belongs to City category B, which is highest among other.\n",
        "* 60% of users are unmarried which is higher than married users.\n",
        "* Product category 1, 5 and 8 has highest purchase frequency among other product category.\n",
        "* male user has overall higher purchase amount.\n",
        "* Average amount spend by Male customers: 925344.4\n",
        "* Average amount spend by Female customers: 712024.39\n",
        "* Users belongs to City Category \"C\" has highest spendings.\n",
        "* number of users with 1 year stay in current city are higher."
      ],
      "metadata": {
        "id": "XivMg1eiaAjL"
      }
    },
    {
      "cell_type": "markdown",
      "source": [
        "# **Recommendations:**\n",
        "\n",
        "* Walmart should focus on acquisition of customers who are in the age group of 18-45.\n",
        "* It should focus on retaining the male customers and getting more male customers.\n",
        "* It should focus on keeping high stock of products belongs to 1, 5 and 8 product category as those are high selling products.\n",
        "* Company should focus on acquisition of unmarried users.\n",
        "* City category B has highest numbers of user, so Walmart should focus on increasing users in A and C category City.\n",
        "Company should focus on users with 1 year stay in current city.\n",
        "*   List item\n",
        "\n"
      ],
      "metadata": {
        "id": "ZTufl-LTaQMo"
      }
    },
    {
      "cell_type": "code",
      "source": [],
      "metadata": {
        "id": "JIW5D09ZZ0rE"
      },
      "execution_count": null,
      "outputs": []
    }
  ]
}